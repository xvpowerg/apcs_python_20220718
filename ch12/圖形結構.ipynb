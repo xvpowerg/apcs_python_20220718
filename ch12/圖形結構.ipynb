{
 "cells": [
  {
   "cell_type": "code",
   "execution_count": 1,
   "id": "22eb5678",
   "metadata": {},
   "outputs": [
    {
     "name": "stdout",
     "output_type": "stream",
     "text": [
      "無向圖形矩陣：\n",
      "[0] [1] [0] [0] [1] \n",
      "[1] [0] [1] [1] [0] \n",
      "[0] [1] [0] [1] [0] \n",
      "[0] [1] [1] [0] [0] \n",
      "[1] [0] [0] [0] [0] \n"
     ]
    }
   ],
   "source": [
    "arr=[[0]*6 for row in range(6)]             #宣告矩陣arr\n",
    "\n",
    "data=[[1,2],[2,1],[1,5],[5,1],              #圖形各邊的起點值及終點值\n",
    "      [2,3],[3,2],[2,4],[4,2],\n",
    "      [3,4],[4,3]]\n",
    "for i in range(10):                         #讀取圖形資料\n",
    "    tmpi=data[i][0]                 #tmpi為起始頂點\n",
    "    tmpj=data[i][1]                 #tmpj為終止頂點\n",
    "    arr[tmpi][tmpj]=1               #有邊的點填入1\n",
    "\n",
    "print('無向圖形矩陣：')\n",
    "for i in range(1,6):\n",
    "    for j in range(1,6):\n",
    "        print('[%d] ' %arr[i][j],end='')    #列印矩陣內容\n",
    "    print()\n"
   ]
  },
  {
   "cell_type": "code",
   "execution_count": 2,
   "id": "32899808",
   "metadata": {},
   "outputs": [
    {
     "name": "stdout",
     "output_type": "stream",
     "text": [
      "有向圖形矩陣：\n",
      "[0] [1] [0] [0] [0] \n",
      "[1] [0] [1] [1] [0] \n",
      "[0] [0] [0] [0] [0] \n",
      "[1] [0] [1] [0] [0] \n",
      "[0] [0] [0] [0] [0] \n"
     ]
    }
   ],
   "source": [
    "arr=[[0]*6 for row in range(6)]                 #宣告矩陣arr\n",
    "    \n",
    "data=[[1,2],[2,1],[2,3],[2,4],[4,3],[4,1]]      #圖形各邊的起點值及終點值\n",
    "for i in range(6):                              #讀取圖形資料\n",
    "    tmpi=data[i][0]                             #tmpi為起始頂點\n",
    "    tmpj=data[i][1]                             #tmpj為終止頂點\n",
    "    arr[tmpi][tmpj]=1                           #有邊的點填入1\n",
    "\n",
    "print('有向圖形矩陣：')\n",
    "for i in range(1,6):\n",
    "    for j in range(1,6):\n",
    "        print('[%d] ' %arr[i][j],end='')        #列印矩陣內容\n",
    "    print()\n"
   ]
  },
  {
   "cell_type": "code",
   "execution_count": 3,
   "id": "70994016",
   "metadata": {},
   "outputs": [
    {
     "name": "stdout",
     "output_type": "stream",
     "text": [
      "圖形的鄰接串列內容：\n",
      "----------------------------------\n",
      "頂點 1 =>[2] \n",
      "頂點 2 =>[1] [5] [3] [4] \n",
      "頂點 3 =>[2] [4] [5] \n",
      "頂點 4 =>[2] [3] [5] \n",
      "頂點 5 =>[2] [3] [4] \n"
     ]
    }
   ],
   "source": [
    "class list_node:\n",
    "    def __init__(self):\n",
    "        self.val=0\n",
    "        self.next=None\n",
    "        \n",
    "head=[list_node()]*6                                #宣告一個節點型態串列\n",
    "\n",
    "data=[[1,2],[2,1],[2,5],[5,2],                      #圖形陣列宣告\n",
    "      [2,3],[3,2],[2,4],[4,2],\n",
    "      [3,4],[4,3],[3,5],[5,3],\n",
    "      [4,5],[5,4]]\n",
    "\n",
    "print('圖形的鄰接串列內容：')\n",
    "print('----------------------------------')\n",
    "for i in range(1,6):\n",
    "    head[i]=list_node()                             #建立首節點\n",
    "    head[i].val=i                                   #串列首head\n",
    "    head[i].next=None\n",
    "    print('頂點 %d =>' %i,end='')                   #把頂點值列印出來\n",
    "    ptr=head[i]\n",
    "    for j in range(len(data)):                      #走訪圖形陣列\n",
    "        if data[j][0]==i:                           #如果節點值=i，加入節點到串列首\n",
    "            newnode=list_node()                     #建立新節點\n",
    "            newnode.val=data[j][1]                  #宣告新節點，值為終點值\n",
    "            newnode.next=None\n",
    "            while ptr!=None:                        #判斷是否為串列的尾端\n",
    "                ptr=ptr.next\n",
    "            ptr=newnode                             #加入新節點\n",
    "            print('[%d] ' %newnode.val,end='')      #列印相鄰頂點\n",
    "    print()\n"
   ]
  },
  {
   "cell_type": "code",
   "execution_count": 4,
   "id": "a39f27c7",
   "metadata": {},
   "outputs": [
    {
     "name": "stdout",
     "output_type": "stream",
     "text": [
      "圖形的鄰接串列內容：\n",
      "----------------------------------\n",
      "頂點 1 =>[2] \n",
      "頂點 2 =>[1] [3] [4] \n",
      "頂點 3 =>\n",
      "頂點 4 =>[3] [1] \n",
      "頂點 5 =>\n"
     ]
    }
   ],
   "source": [
    "class list_node:\n",
    "    def __init__(self):\n",
    "        self.val=0\n",
    "        self.next=None\n",
    "        \n",
    "head=[list_node()]*6                                #宣告一個節點型態串列\n",
    "\n",
    "data=[[1,2],[2,1],[2,3],[2,4],[4,3],[4,1]]          #圖形陣列宣告\n",
    "\n",
    "print('圖形的鄰接串列內容：')\n",
    "print('----------------------------------')\n",
    "for i in range(1,6):\n",
    "    head[i]=list_node()                             #建立首節點\n",
    "    head[i].val=i                                   #串列首head\n",
    "    head[i].next=None\n",
    "    print('頂點 %d =>' %i,end='')                   #把頂點值列印出來\n",
    "    ptr=head[i]\n",
    "    for j in range(len(data)):                             #走訪圖形陣列\n",
    "        if data[j][0]==i:                           #如果節點值=i，加入節點到串列首\n",
    "            newnode=list_node()                     #建立新節點\n",
    "            newnode.val=data[j][1]                  #宣告新節點，值為終點值\n",
    "            newnode.next=None\n",
    "            while ptr!=None:                        #判斷是否為串列的尾端\n",
    "                ptr=ptr.next\n",
    "            ptr=newnode                             #加入新節點\n",
    "            print('[%d] ' %newnode.val,end='')      #列印相鄰頂點\n",
    "    print()\n"
   ]
  },
  {
   "cell_type": "code",
   "execution_count": 5,
   "id": "b19e668a",
   "metadata": {},
   "outputs": [
    {
     "name": "stdout",
     "output_type": "stream",
     "text": [
      "圖形的鄰接串列內容：\n",
      "----------------------------------\n",
      "頂點 1 =>[2] \n",
      "頂點 2 =>[1] [5] [3] [4] \n",
      "頂點 3 =>[2] [4] [5] \n",
      "頂點 4 =>[2] [3] [5] \n",
      "頂點 5 =>[2] [3] [4] \n"
     ]
    }
   ],
   "source": [
    "data=[[1,2],[2,1],[2,5],[5,2],                      #圖形陣列宣告\n",
    "      [2,3],[3,2],[2,4],[4,2],\n",
    "      [3,4],[4,3],[3,5],[5,3],\n",
    "      [4,5],[5,4]]\n",
    "\n",
    "graph = {}                                          #圖形dict宣告\n",
    "print('圖形的鄰接串列內容：')\n",
    "print('----------------------------------')\n",
    "for i in range(1,6):\n",
    "    graph[i] = []                                   #每個頂點對應一個空的list\n",
    "\n",
    "for j in range(len(data)):    \n",
    "    graph[data[j][0]].append(data[j][1])\n",
    "    #print(graph)\n",
    "\n",
    "for k in graph:                                     #走訪圖形陣列\n",
    "    print('頂點 %d =>' %k, end='')                  #把頂點值列印出來\n",
    "    for l in graph[k]:\n",
    "        print('[%d] ' %l, end='')                    #列印相鄰頂點\n",
    "    print()\n"
   ]
  },
  {
   "cell_type": "code",
   "execution_count": 6,
   "id": "5f133e40",
   "metadata": {},
   "outputs": [
    {
     "name": "stdout",
     "output_type": "stream",
     "text": [
      "圖形的鄰接串列內容：\n",
      "----------------------------------\n",
      "頂點 1 =>[2] \n",
      "頂點 2 =>[1] [3] [4] \n",
      "頂點 3 =>\n",
      "頂點 4 =>[3] [1] \n",
      "頂點 5 =>\n"
     ]
    }
   ],
   "source": [
    "data=[[1,2],[2,1],[2,3],[2,4],[4,3],[4,1]]          #圖形陣列宣告\n",
    "\n",
    "graph = {}                                          #圖形dict宣告\n",
    "print('圖形的鄰接串列內容：')\n",
    "print('----------------------------------')\n",
    "for i in range(1,6):\n",
    "    graph[i] = []                                   #每個頂點對應一個空的list\n",
    "\n",
    "for j in range(len(data)):    \n",
    "    graph[data[j][0]].append(data[j][1])\n",
    "    #print(graph)\n",
    "\n",
    "for k in graph:                                     #走訪圖形陣列\n",
    "    print('頂點 %d =>' %k, end='')                  #把頂點值列印出來\n",
    "    for l in graph[k]:\n",
    "        print('[%d] ' %l, end='')                    #列印相鄰頂點\n",
    "    print()\n"
   ]
  },
  {
   "cell_type": "code",
   "execution_count": 7,
   "id": "c1c4ce09",
   "metadata": {},
   "outputs": [
    {
     "name": "stdout",
     "output_type": "stream",
     "text": [
      "圖形的鄰接串列內容：\n",
      "----------------------------------\n",
      "頂點 1 =>(2,1) (3,4) \n",
      "頂點 2 =>(1,1) (4,2) \n",
      "頂點 3 =>(1,4) (5,5) \n",
      "頂點 4 =>(2,2) (5,3) \n",
      "頂點 5 =>(3,5) (4,3) \n"
     ]
    }
   ],
   "source": [
    "data=[[1,(2,1)],[1,(3,4)],\n",
    "      [2,(1,1)],[2,(4,2)],\n",
    "      [3,(1,4)],[3,(5,5)],\n",
    "      [4,(2,2)],[4,(5,3)],\n",
    "      [5,(3,5)],[5,(4,3)]]\n",
    "\n",
    "graph = {}                                          #圖形dict宣告\n",
    "print('圖形的鄰接串列內容：')\n",
    "print('----------------------------------')\n",
    "for i in range(1,6):\n",
    "    graph[i] = []                                   #每個頂點對應一個空的list\n",
    "\n",
    "for j in range(len(data)):    \n",
    "    graph[data[j][0]].append(data[j][1])\n",
    "    #print(graph)\n",
    "\n",
    "for k in graph:                                     #走訪圖形陣列\n",
    "    print('頂點 %d =>' %k, end='')                  #把頂點值列印出來\n",
    "    for l in graph[k]:\n",
    "        print('(%d,%d) ' %l, end='')                #列印相鄰頂點\n",
    "    print()\n"
   ]
  },
  {
   "cell_type": "code",
   "execution_count": 8,
   "id": "e351a8b7",
   "metadata": {},
   "outputs": [
    {
     "name": "stdout",
     "output_type": "stream",
     "text": [
      "圖形的鄰接串列內容:\n",
      "頂點 1 =>[2] [3] \n",
      "頂點 2 =>[1] [4] [5] \n",
      "頂點 3 =>[1] [6] [7] \n",
      "頂點 4 =>[2] [8] \n",
      "頂點 5 =>[2] [8] \n",
      "頂點 6 =>[3] [8] \n",
      "頂點 7 =>[3] [8] \n",
      "頂點 8 =>[4] [5] [6] [7] \n",
      "深度優先走訪頂點:\n",
      "[1] [2] [4] [8] [5] [6] [3] [7] \n"
     ]
    }
   ],
   "source": [
    "class list_node:\n",
    "    def __init__(self):\n",
    "        self.val=0\n",
    "        self.next=None\n",
    "\n",
    "head=[list_node()]*9                            #宣告一個節點型態陣列\n",
    "\n",
    "data=[[1,2],[2,1],[1,3],[3,1],                  #圖形邊線陣列宣告 \n",
    "      [2,4],[4,2],[2,5],[5,2],\n",
    "      [3,6],[6,3],[3,7],[7,3],\n",
    "      [4,8],[8,4],[5,8],[8,5],\n",
    "      [6,8],[8,6],[8,7],[7,8]]\n",
    "\n",
    "for i in range(1,9):                            #共有八個頂點\n",
    "    head[i]=list_node()                         #設定各個串列首的初值\n",
    "    head[i].val = i\n",
    "    head[i].next=None\n",
    "    ptr=head[i]                                 #設定指標為串列首\n",
    "    for j in range(len(data)):                  #二十條邊線\n",
    "        if data[j][0]==i:                       #如果起點和串列首相等，則把頂點加入串列\n",
    "            newnode=list_node()\n",
    "            newnode.val=data[j][1]\n",
    "            newnode.next=None\n",
    "            while ptr.next:\n",
    "                ptr=ptr.next            \n",
    "            ptr.next=newnode                    #加入新節點\n",
    "\n",
    "run=[0]*9\n",
    "print('圖形的鄰接串列內容:')                    #列印圖形的鄰接串列內容            \n",
    "for j in range(1,9):\n",
    "    run[i]=0                                    #設定所有頂點成尚未走訪過\n",
    "    print('頂點 %d =>' %head[j].val,end='')\n",
    "    ptr=head[j] \n",
    "    while ptr.next:\n",
    "        ptr=ptr.next\n",
    "        print('[%d] ' %ptr.val,end='')\n",
    "    print()\n",
    "\n",
    "def dfs(current):                               #深度優先函數    \n",
    "    run[current]=1\n",
    "    print('[%d] ' %current, end='')\n",
    "    ptr=head[current].next\n",
    "    while ptr!=None:\n",
    "        if run[ptr.val]==0:                     #如果頂點尚未走訪，\n",
    "            dfs(ptr.val)                        #就進行dfs的遞迴呼叫\n",
    "        ptr=ptr.next\n",
    "\n",
    "print('深度優先走訪頂點:')                      #列印深度優先走訪的頂點\n",
    "dfs(1)\n",
    "print()\n"
   ]
  },
  {
   "cell_type": "code",
   "execution_count": 9,
   "id": "5f4eef63",
   "metadata": {},
   "outputs": [
    {
     "name": "stdout",
     "output_type": "stream",
     "text": [
      "['A', 'B', 'E', 'C', 'F', 'I', 'J', 'D', 'G', 'H']\n"
     ]
    }
   ],
   "source": [
    "def dfs(graph, start):\n",
    "    ''' 深度優先搜尋法 '''\n",
    "    path = []                               # 拜訪過的節點\n",
    "    stack = [start]                         # 模擬堆疊\n",
    "    while stack:        \n",
    "        node = stack.pop()                  # pop堆疊\n",
    "        path.append(node)                   # 加入已拜訪行列\n",
    "        for n in graph[node]:               # 將相鄰節點放入佇列\n",
    "            stack.append(n)\n",
    "    return path\n",
    "\n",
    "graph = {'A':['D', 'C', 'B'],\n",
    "         'B':['E'],\n",
    "         'C':['F'],\n",
    "         'D':['H', 'G'],\n",
    "         'E':[],\n",
    "         'F':['J', 'I'],\n",
    "         'G':[],\n",
    "         'H':[],\n",
    "         'I':[],\n",
    "         'J':[]\n",
    "        } \n",
    "print(dfs(graph,'A'))\n"
   ]
  },
  {
   "cell_type": "code",
   "execution_count": 10,
   "id": "2e793447",
   "metadata": {},
   "outputs": [
    {
     "name": "stdout",
     "output_type": "stream",
     "text": [
      "['V0', 'V1', 'V3', 'V7', 'V4', 'V5', 'V2', 'V6']\n"
     ]
    }
   ],
   "source": [
    "def dfs(graph, node, path=[]):\n",
    "    ''' 深度優先搜尋法 '''\n",
    "    path += [node]                          # 路徑    \n",
    "    for n in graph[node]:                   # 將相鄰節點放入佇列\n",
    "        if n not in path:\n",
    "            path = dfs(graph, n, path)\n",
    "    return path\n",
    "\n",
    "graph = {'V0':['V1', 'V2'],\n",
    "         'V1':['V0', 'V3', 'V4'],\n",
    "         'V2':['V0', 'V5', 'V6'],\n",
    "         'V3':['V1', 'V7',],\n",
    "         'V4':['V1', 'V7',],\n",
    "         'V5':['V2', 'V7',],\n",
    "         'V6':['V1', 'V7',],\n",
    "         'V7':['V3', 'V4', 'V5', 'V6',]} \n",
    "print(dfs(graph,'V0'))\n"
   ]
  },
  {
   "cell_type": "code",
   "execution_count": 11,
   "id": "957829e8",
   "metadata": {},
   "outputs": [
    {
     "name": "stdout",
     "output_type": "stream",
     "text": [
      "圖形的鄰接串列內容:\n",
      "頂點 1 =>[2] [3] \n",
      "頂點 2 =>[1] [4] [5] \n",
      "頂點 3 =>[1] [6] [7] \n",
      "頂點 4 =>[2] [8] \n",
      "頂點 5 =>[2] [8] \n",
      "頂點 6 =>[3] [8] \n",
      "頂點 7 =>[3] [8] \n",
      "頂點 8 =>[4] [5] [6] [7] \n",
      "廣度優先走訪頂點：\n",
      "[1][2][3][4][5][6][7][8]\n"
     ]
    }
   ],
   "source": [
    "class list_node:\n",
    "    def __init__(self):\n",
    "        self.val=0\n",
    "        self.next=None\n",
    "\n",
    "head=[list_node()]*9                            #宣告一個節點型態陣列\n",
    "\n",
    "data=[[1,2],[2,1],[1,3],[3,1],                  #圖形邊線陣列宣告 \n",
    "      [2,4],[4,2],[2,5],[5,2],\n",
    "      [3,6],[6,3],[3,7],[7,3],\n",
    "      [4,8],[8,4],[5,8],[8,5],\n",
    "      [6,8],[8,6],[8,7],[7,8]]\n",
    "\n",
    "for i in range(1,9):                            #共有八個頂點\n",
    "    head[i]=list_node()                         #設定各個串列首的初值\n",
    "    head[i].val = i\n",
    "    head[i].next=None\n",
    "    ptr=head[i]                                 #設定指標為串列首\n",
    "    for j in range(len(data)):                  #二十條邊線\n",
    "        if data[j][0]==i:                       #如果起點和串列首相等，則把頂點加入串列\n",
    "            newnode=list_node()\n",
    "            newnode.val=data[j][1]\n",
    "            newnode.next=None\n",
    "            while ptr.next:\n",
    "                ptr=ptr.next            \n",
    "            ptr.next=newnode                    #加入新節點\n",
    "\n",
    "run=[0]*9\n",
    "print('圖形的鄰接串列內容:')                    #列印圖形的鄰接串列內容            \n",
    "for j in range(1,9):\n",
    "    run[i]=0                                    #設定所有頂點成尚未走訪過\n",
    "    print('頂點 %d =>' %head[j].val,end='')\n",
    "    ptr=head[j] \n",
    "    while ptr.next:\n",
    "        ptr=ptr.next\n",
    "        print('[%d] ' %ptr.val,end='')\n",
    "    print()\n",
    "    \n",
    "def bfs(current, queue):\n",
    "    if run[current]==0:\n",
    "        run[current]=1                          #將走訪過的頂點設定為1\n",
    "        print('[%d]' %current,end='')\n",
    "        ptr=head[current].next\n",
    "        while ptr!=None:\n",
    "            if run[ptr.val]==0 and \\\n",
    "               ptr.val not in queue:\n",
    "                queue.append(ptr.val)\n",
    "            ptr = ptr.next\n",
    "    if not queue:\n",
    "        return\n",
    "    else:\n",
    "        nextNode = queue.pop(0)\n",
    "        bfs(nextNode, queue)\n",
    "\n",
    "print('廣度優先走訪頂點：')                     #列印廣度優先走訪的頂點\n",
    "queue = []\n",
    "bfs(1,queue)\n",
    "print()\n"
   ]
  },
  {
   "cell_type": "code",
   "execution_count": 12,
   "id": "67f06c2f",
   "metadata": {},
   "outputs": [
    {
     "name": "stdout",
     "output_type": "stream",
     "text": [
      "['A', 'B', 'C', 'D', 'E', 'F', 'G', 'H', 'I', 'J']\n"
     ]
    }
   ],
   "source": [
    "def bfs(graph, start):\n",
    "    ''' 廣度優先搜尋法 '''\n",
    "    visited = []                            # 拜訪過的頂點\n",
    "    queue = [start]                         # 模擬佇列\n",
    "    while queue:        \n",
    "        node = queue.pop(0)                 # 取索引0的值\n",
    "        if node not in visited:\n",
    "            visited.append(node)            # 加入已拜訪行列\n",
    "            neighbors = graph[node]         # 取得已拜訪節點的相鄰節點           \n",
    "            for n in neighbors:             # 將相鄰節點放入佇列\n",
    "                queue.append(n)\n",
    "    return visited\n",
    "\n",
    "graph = {'A':['B', 'C', 'D'],\n",
    "         'B':['A', 'E'],\n",
    "         'C':['A', 'F'],\n",
    "         'D':['A', 'G', 'H'],\n",
    "         'E':['B'],\n",
    "         'F':['C', 'I', 'J'],\n",
    "         'G':['D'],\n",
    "         'H':['D'],\n",
    "         'I':['F'],\n",
    "         'J':['F']\n",
    "        } \n",
    "print(bfs(graph,'A'))\n"
   ]
  },
  {
   "cell_type": "code",
   "execution_count": 13,
   "id": "80501659",
   "metadata": {},
   "outputs": [
    {
     "name": "stdout",
     "output_type": "stream",
     "text": [
      "['V0', 'V1', 'V2', 'V3', 'V4', 'V5', 'V6', 'V7']\n"
     ]
    }
   ],
   "source": [
    "def bfs(node):\n",
    "    ''' 廣度優先搜尋法 '''\n",
    "    global graph, queue, visited\n",
    "    if node not in visited:\n",
    "        visited.append(node)            # 加入已拜訪行列 \n",
    "        for n in graph[node]:           # 取得已拜訪節點的相鄰節點\n",
    "            if n not in visited:\n",
    "                queue.append(n)         # 將相鄰節點放入佇列\n",
    "    if not queue and visited:\n",
    "        return\n",
    "    else:\n",
    "        nextNode = queue.pop(0)         # 取索引0的值\n",
    "        bfs(nextNode)\n",
    "\n",
    "graph = {'V0':['V1', 'V2'],\n",
    "         'V1':['V0', 'V3', 'V4'],\n",
    "         'V2':['V0', 'V5', 'V6'],\n",
    "         'V3':['V1', 'V7',],\n",
    "         'V4':['V1', 'V7',],\n",
    "         'V5':['V2', 'V7',],\n",
    "         'V6':['V1', 'V7',],\n",
    "         'V7':['V3', 'V4', 'V5', 'V6',]}\n",
    "visited = []                            # 拜訪過的頂點\n",
    "queue = []                              # 模擬佇列\n",
    "bfs('V0')\n",
    "print(visited)\n"
   ]
  },
  {
   "cell_type": "code",
   "execution_count": null,
   "id": "7bf67fb3",
   "metadata": {},
   "outputs": [],
   "source": []
  }
 ],
 "metadata": {
  "kernelspec": {
   "display_name": "Python 3 (ipykernel)",
   "language": "python",
   "name": "python3"
  },
  "language_info": {
   "codemirror_mode": {
    "name": "ipython",
    "version": 3
   },
   "file_extension": ".py",
   "mimetype": "text/x-python",
   "name": "python",
   "nbconvert_exporter": "python",
   "pygments_lexer": "ipython3",
   "version": "3.8.11"
  }
 },
 "nbformat": 4,
 "nbformat_minor": 5
}
