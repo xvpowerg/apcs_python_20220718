{
 "cells": [
  {
   "cell_type": "code",
   "execution_count": 1,
   "id": "3734f878",
   "metadata": {},
   "outputs": [
    {
     "name": "stdout",
     "output_type": "stream",
     "text": [
      "[29, 18, 1, 95, 82, 20, 68, 37, 54, 77]\n",
      "最大3個數字和為 254\n",
      "[29, 18, 1, 20, 68, 37, 54]\n"
     ]
    }
   ],
   "source": [
    "import random\n",
    "\n",
    "nums = random.sample(range(1,100), 10)\n",
    "print(nums)\n",
    "\n",
    "nSum3 = 0\n",
    "for i in range(3):\n",
    "    maxNum = 0\n",
    "    for j in range(len(nums)):\n",
    "        if nums[j]>maxNum:\n",
    "            maxNum = nums[j]\n",
    "    nSum3 += maxNum\n",
    "    nums.remove(maxNum)\n",
    "print('最大3個數字和為', nSum3)\n",
    "print(nums)\n"
   ]
  },
  {
   "cell_type": "code",
   "execution_count": 5,
   "id": "c129801c",
   "metadata": {},
   "outputs": [
    {
     "name": "stdout",
     "output_type": "stream",
     "text": [
      "輸入金額７７\n",
      "50元硬幣1個\n",
      "10元硬幣2個\n",
      "5元硬幣1個\n",
      "1元硬幣2個\n",
      "共6個硬幣\n"
     ]
    }
   ],
   "source": [
    "coinType = (50,10,5,1)\n",
    "def exchange(amt):\n",
    "    global count\n",
    "    result={}\n",
    "    for coin in coinType:\n",
    "        num = amt // coin\n",
    "        result[coin] = num\n",
    "        count+=num\n",
    "        amt %= coin\n",
    "    return result  \n",
    "count =0 \n",
    "amount = int(input(\"輸入金額\"))\n",
    "ans = exchange(amount)\n",
    "for coin in coinType:\n",
    "    print(f\"{coin}元硬幣{ans[coin]}個\")\n",
    "print(f\"共{count}個硬幣\")    "
   ]
  },
  {
   "cell_type": "code",
   "execution_count": 8,
   "id": "c0630868",
   "metadata": {},
   "outputs": [
    {
     "name": "stdout",
     "output_type": "stream",
     "text": [
      "輸入水量77\n",
      "30公升容量2個\n",
      "18公升容量0個\n",
      "5公升容量3個\n",
      "1公升容量2個\n",
      "共使用7個容器\n"
     ]
    }
   ],
   "source": [
    "bottleType = (30,18,5,1)\n",
    "def exchange(amt):\n",
    "    global count\n",
    "    result={}\n",
    "    for bottle in bottleType:\n",
    "        num = amt // bottle \n",
    "        result[bottle] = num\n",
    "        count+=num\n",
    "        amt %= bottle\n",
    "    return result  \n",
    "count =0 \n",
    "amount = int(input(\"輸入水量\"))\n",
    "ans = exchange(amount)\n",
    "for bottle in bottleType:\n",
    "    print(f\"{bottle}公升容量{ans[bottle]}個\")\n",
    "print(f\"共使用{bottle}個容器\") "
   ]
  },
  {
   "cell_type": "code",
   "execution_count": 9,
   "id": "23ac0acc",
   "metadata": {},
   "outputs": [
    {
     "name": "stdout",
     "output_type": "stream",
     "text": [
      "總重量:490公斤\n",
      "船上共8個寶物: [20, 20, 30, 50, 60, 90, 100, 120]\n"
     ]
    }
   ],
   "source": [
    "treasures = [50,160,20,100,20,60,90,120,150,30]\n",
    "treasures.sort()\n",
    "shipLoad = []\n",
    "total=0\n",
    "capacity = 500\n",
    "for treasure in treasures:\n",
    "    if treasure+total<capacity:\n",
    "        shipLoad.append(treasure)\n",
    "        total+=treasure\n",
    "    \n",
    "print('總重量:%d公斤' %total)\n",
    "print('船上共%d個寶物:'%len(shipLoad), shipLoad)\n"
   ]
  },
  {
   "cell_type": "code",
   "execution_count": 10,
   "id": "ea814102",
   "metadata": {},
   "outputs": [
    {
     "name": "stdout",
     "output_type": "stream",
     "text": [
      "[(2,60) (1,20) ]: 80\n"
     ]
    }
   ],
   "source": [
    "class Knapsack:\n",
    "    def __init__(self, capacity):\n",
    "        self.capacity = capacity\n",
    "        self.items=[]\n",
    "        self.weight=0\n",
    "        self.value=0    \n",
    "    def put(self, item):\n",
    "        if self.weight+item.weight>capacity:\n",
    "            return False\n",
    "        else:\n",
    "            self.items.append(item)\n",
    "            self.weight += item.weight\n",
    "            self.value += item.value\n",
    "            return True\n",
    "    def print(self):\n",
    "        print('[', end='')\n",
    "        for item in self.items:\n",
    "            print(item, end=' ')\n",
    "        print(']:', self.value)\n",
    "\n",
    "class item:\n",
    "    def __init__(self, weight, value):\n",
    "        self.weight = weight\n",
    "        self.value = value\n",
    "        self.unitValue = self.value/self.weight\n",
    "    def __lt__(self, other): \n",
    "        return self.unitValue < other.unitValue\n",
    "    def __str__(self):\n",
    "        return '(%d,%d)'%(self.weight, self.value)\n",
    "\n",
    "weights = [1,2,3]\n",
    "values = [20,60,45]\n",
    "capacity = 5\n",
    "\n",
    "knapsack = Knapsack(capacity)\n",
    "items = []\n",
    "for w,v in zip(weights, values):\n",
    "    items.append(item(w,v))\n",
    "sortedItems = sorted(items, reverse=True)\n",
    "for i in sortedItems:\n",
    "    if not knapsack.put(i):\n",
    "        break\n",
    "knapsack.print()\n"
   ]
  },
  {
   "cell_type": "code",
   "execution_count": 11,
   "id": "d336612e",
   "metadata": {},
   "outputs": [
    {
     "name": "stdout",
     "output_type": "stream",
     "text": [
      "[(20,50) (20,50) (30,30) (50,40) (100,60) (90,50) (150,60) ]: 340\n"
     ]
    }
   ],
   "source": [
    "class Ship:\n",
    "    def __init__(self, capacity):\n",
    "        self.capacity = capacity\n",
    "        self.items=[]\n",
    "        self.weight=0\n",
    "        self.value=0    \n",
    "    def put(self, item):\n",
    "        if self.weight+item.weight>capacity:\n",
    "            return False\n",
    "        else:\n",
    "            self.items.append(item)\n",
    "            self.weight += item.weight\n",
    "            self.value += item.value\n",
    "            return True\n",
    "    def print(self):\n",
    "        print('[', end='')\n",
    "        for item in self.items:\n",
    "            print(item, end=' ')\n",
    "        print(']:', self.value)\n",
    "\n",
    "class item:\n",
    "    def __init__(self, weight, value):\n",
    "        self.weight = weight\n",
    "        self.value = value\n",
    "        self.unitValue = value/weight\n",
    "    def __lt__(self, other):\n",
    "        return self.unitValue < other.unitValue\n",
    "    def __str__(self):\n",
    "        return '(%d,%d)'%(self.weight, self.value)\n",
    "\n",
    "treasures = [50,160,20,100,20,60,90,120,150,30]\n",
    "values = [40,10,50,60,50,20,50,30,60,30]\n",
    "capacity = 500\n",
    "\n",
    "ship = Ship(capacity)\n",
    "items = []\n",
    "for w,v in zip(treasures, values):\n",
    "    items.append(item(w,v))\n",
    "sortedItems = sorted(items, reverse=True)\n",
    "for i in sortedItems:\n",
    "    if not ship.put(i):\n",
    "        break\n",
    "ship.print()\n"
   ]
  },
  {
   "cell_type": "code",
   "execution_count": 12,
   "id": "f979ca57",
   "metadata": {},
   "outputs": [
    {
     "name": "stdout",
     "output_type": "stream",
     "text": [
      "輸入兌換金額:9\n",
      "最少需換成5個硬幣\n"
     ]
    }
   ],
   "source": [
    "coinType=(50,10,5,1)\n",
    "def exchange(amt):\n",
    "    dp = [amt + 1] * (amt + 1)                  # 構建dp動態陣列\n",
    "    dp[0] = 0                                   # 初始化\n",
    "    \n",
    "    for i in range(1, amt + 1):\n",
    "        temp = [dp[i]]                          # 每一個金額，所有能湊成的方案的硬幣數，最後取最小值\n",
    "        for coin in coinType:\n",
    "            if i >= coin:\n",
    "                temp.append(dp[i-coin]+1)       # 當金額大於某一個硬幣時才考慮，否則一定無法用大額硬幣湊成小額\n",
    "        dp[i] = min(temp)\n",
    "    #print(dp)\n",
    "    return -1 if dp[-1] == amt + 1 else dp[-1]\n",
    "\n",
    "count = 0\n",
    "amount = int(input('輸入兌換金額:'))\n",
    "answer=exchange(amount)\n",
    "print('最少需換成%d個硬幣'%answer)\n"
   ]
  },
  {
   "cell_type": "code",
   "execution_count": 13,
   "id": "797645a0",
   "metadata": {},
   "outputs": [
    {
     "name": "stdout",
     "output_type": "stream",
     "text": [
      "輸入填充水量:77\n",
      "最少需使用5個容器\n"
     ]
    }
   ],
   "source": [
    "bottleType=(30,18,5,1)\n",
    "def fill(amt):\n",
    "    dp = [amt] * (amt + 1)\n",
    "    dp[0] = 0    \n",
    "    for i in range(1, amt + 1):\n",
    "        temp = [dp[i]]\n",
    "        for bottle in bottleType:\n",
    "            if i >= bottle:\n",
    "                temp.append(dp[i-bottle]+1)\n",
    "        dp[i] = min(temp)\n",
    "    #print(dp)\n",
    "    return -1 if dp[-1] == amt + 1 else dp[-1]\n",
    "\n",
    "count = 0\n",
    "amount = int(input('輸入填充水量:'))\n",
    "answer=fill(amount)\n",
    "print('最少需使用%d個容器'%answer)\n"
   ]
  },
  {
   "cell_type": "code",
   "execution_count": 14,
   "id": "9d78cf02",
   "metadata": {},
   "outputs": [
    {
     "name": "stdout",
     "output_type": "stream",
     "text": [
      "輸入總載重量:790\n",
      "最多能載780公斤寶物\n"
     ]
    }
   ],
   "source": [
    "treasures = [50, 160, 20, 100, 20, 60, 90, 120, 150, 30]\n",
    "treasures.sort()\n",
    "def load(items, w):\n",
    "    if len(items)==0:\n",
    "        return 0\n",
    "    elif w==0:\n",
    "        return 0\n",
    "    else:\n",
    "        for i in range(len(items)):\n",
    "            if items[i]>w:\n",
    "                return 0\n",
    "            elif items[i] == w:\n",
    "                return w\n",
    "            else:\n",
    "                #現在重量之前的 與 現在重量之後的 合併為一組陣列 剩下的其他重量\n",
    "                reItems = items[:i]+items[i+1:]\n",
    "                #現在重量 （item[i]）+ load （剩下的其他重量,扣除了目前重量的總重量) , 假如不放目前的重量\n",
    "                return max(items[i]+load(reItems, w-items[i]),load(reItems, w))\n",
    "\n",
    "amount = int(input('輸入總載重量:'))\n",
    "answer=load(treasures, amount)\n",
    "print('最多能載%d公斤寶物'%answer)\n"
   ]
  },
  {
   "cell_type": "code",
   "execution_count": 15,
   "id": "f685c8ad",
   "metadata": {},
   "outputs": [
    {
     "name": "stdout",
     "output_type": "stream",
     "text": [
      "輸入背包載重量:10\n",
      "[0, 20, 60, 80, 120, 140, 180, 200, 240, 260, 300]\n",
      "10公斤背包可放入物品最大價值為$300\n"
     ]
    }
   ],
   "source": [
    "class item:\n",
    "    def __init__(self, weight, value):\n",
    "        self.weight = weight\n",
    "        self.value = value\n",
    "\n",
    "def getMaxValue(amt, itemList):\n",
    "    dp = [0]*(amt + 1)\n",
    "    dp[0] = 0\n",
    "    for i in range(1, amt + 1):\n",
    "        temp = [dp[i]]\n",
    "        for item in itemList:\n",
    "            if i>=item.weight:\n",
    "                temp.append(item.value+dp[i-item.weight])\n",
    "        dp[i] = max(temp)\n",
    "    print(dp)\n",
    "    return dp[-1]\n",
    "      \n",
    "weights = [1,2,3]\n",
    "values = [20,60,45]\n",
    "items = []\n",
    "for w,v in zip(weights, values):\n",
    "    items.append(item(w,v))\n",
    "\n",
    "capacity = int(input('輸入背包載重量:'))\n",
    "maxValue = getMaxValue(capacity, items)\n",
    "print('%d公斤背包可放入物品最大價值為$%d' %(capacity, maxValue))\n"
   ]
  },
  {
   "cell_type": "code",
   "execution_count": 16,
   "id": "351b0942",
   "metadata": {},
   "outputs": [
    {
     "name": "stdout",
     "output_type": "stream",
     "text": [
      "輸入總載重量:400\n",
      "最多能載價值280元的寶物\n"
     ]
    }
   ],
   "source": [
    "class item:\n",
    "    def __init__(self, weight, value):\n",
    "        self.weight = weight\n",
    "        self.value = value\n",
    "    def __lt__(self, other):\n",
    "        return self.value<other.value\n",
    "    def __str__(self):\n",
    "        return '%d(%d)'%(self.weight,self.value)\n",
    "\n",
    "def load(items, w):\n",
    "    if not items:\n",
    "        return 0\n",
    "    if not w:\n",
    "        return 0\n",
    "    for i in range(len(items)):\n",
    "        if items[i].weight>w:\n",
    "            return 0\n",
    "        elif items[i].weight == w:\n",
    "            return items[i].value\n",
    "        else:\n",
    "            reItems = []\n",
    "            reItems.extend(items[:i])\n",
    "            reItems.extend(items[i+1:])\n",
    "            return max(load(reItems, w),\n",
    "                items[i].value+load(reItems, w-items[i].weight))\n",
    "\n",
    "treasures = [50,160,20,100,20,60,90,120,150,30]\n",
    "values = [40,10,50,60,50,20,50,30,60,30]\n",
    "tItems = []\n",
    "for w,v in zip(treasures, values):\n",
    "    tItems.append(item(w,v))\n",
    "tItems.sort(reverse=True)\n",
    "\n",
    "capacity = int(input('輸入總載重量:'))\n",
    "maxValue=load(tItems, capacity)\n",
    "print('最多能載價值%d元的寶物'%maxValue)\n"
   ]
  },
  {
   "cell_type": "code",
   "execution_count": null,
   "id": "bcc77824",
   "metadata": {},
   "outputs": [],
   "source": []
  }
 ],
 "metadata": {
  "kernelspec": {
   "display_name": "Python 3 (ipykernel)",
   "language": "python",
   "name": "python3"
  },
  "language_info": {
   "codemirror_mode": {
    "name": "ipython",
    "version": 3
   },
   "file_extension": ".py",
   "mimetype": "text/x-python",
   "name": "python",
   "nbconvert_exporter": "python",
   "pygments_lexer": "ipython3",
   "version": "3.8.11"
  }
 },
 "nbformat": 4,
 "nbformat_minor": 5
}
