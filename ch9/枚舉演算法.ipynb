{
 "cells": [
  {
   "cell_type": "code",
   "execution_count": 5,
   "id": "2ab010c5",
   "metadata": {},
   "outputs": [
    {
     "name": "stdout",
     "output_type": "stream",
     "text": [
      "1234\n",
      "1243\n",
      "1324\n",
      "1342\n",
      "1423\n",
      "1432\n",
      "2134\n",
      "2143\n",
      "2314\n",
      "2341\n",
      "2413\n",
      "2431\n",
      "3124\n",
      "3142\n",
      "3214\n",
      "3241\n",
      "3412\n",
      "3421\n",
      "4123\n",
      "4132\n",
      "4213\n",
      "4231\n",
      "4312\n",
      "4321\n"
     ]
    }
   ],
   "source": [
    "count = 0\n",
    "for i in range (1,5):\n",
    "    for j in range(1,5):\n",
    "        for k in range(1,5):\n",
    "            for l in range(1,5):\n",
    "                if (i != j and i!=k and i!=l and j !=k and j != l and k!=l):\n",
    "                    print(f\"{i}{j}{k}{l}\")"
   ]
  },
  {
   "cell_type": "code",
   "execution_count": 6,
   "id": "8cf5c526",
   "metadata": {},
   "outputs": [
    {
     "name": "stdout",
     "output_type": "stream",
     "text": [
      "[  1 A,B,C,D,E]\n",
      "[  2 A,B,C,E,D]\n",
      "[  3 A,B,D,C,E]\n",
      "[  4 A,B,D,E,C]\n",
      "[  5 A,B,E,C,D]\n",
      "[  6 A,B,E,D,C]\n",
      "[  7 A,C,B,D,E]\n",
      "[  8 A,C,B,E,D]\n",
      "[  9 A,C,D,B,E]\n",
      "[ 10 A,C,D,E,B]\n",
      "[ 11 A,C,E,B,D]\n",
      "[ 12 A,C,E,D,B]\n",
      "[ 13 A,D,B,C,E]\n",
      "[ 14 A,D,B,E,C]\n",
      "[ 15 A,D,C,B,E]\n",
      "[ 16 A,D,C,E,B]\n",
      "[ 17 A,D,E,B,C]\n",
      "[ 18 A,D,E,C,B]\n",
      "[ 19 A,E,B,C,D]\n",
      "[ 20 A,E,B,D,C]\n",
      "[ 21 A,E,C,B,D]\n",
      "[ 22 A,E,C,D,B]\n",
      "[ 23 A,E,D,B,C]\n",
      "[ 24 A,E,D,C,B]\n",
      "[ 25 B,A,C,D,E]\n",
      "[ 26 B,A,C,E,D]\n",
      "[ 27 B,A,D,C,E]\n",
      "[ 28 B,A,D,E,C]\n",
      "[ 29 B,A,E,C,D]\n",
      "[ 30 B,A,E,D,C]\n",
      "[ 31 B,C,A,D,E]\n",
      "[ 32 B,C,A,E,D]\n",
      "[ 33 B,C,D,A,E]\n",
      "[ 34 B,C,D,E,A]\n",
      "[ 35 B,C,E,A,D]\n",
      "[ 36 B,C,E,D,A]\n",
      "[ 37 B,D,A,C,E]\n",
      "[ 38 B,D,A,E,C]\n",
      "[ 39 B,D,C,A,E]\n",
      "[ 40 B,D,C,E,A]\n",
      "[ 41 B,D,E,A,C]\n",
      "[ 42 B,D,E,C,A]\n",
      "[ 43 B,E,A,C,D]\n",
      "[ 44 B,E,A,D,C]\n",
      "[ 45 B,E,C,A,D]\n",
      "[ 46 B,E,C,D,A]\n",
      "[ 47 B,E,D,A,C]\n",
      "[ 48 B,E,D,C,A]\n",
      "[ 49 C,A,B,D,E]\n",
      "[ 50 C,A,B,E,D]\n",
      "[ 51 C,A,D,B,E]\n",
      "[ 52 C,A,D,E,B]\n",
      "[ 53 C,A,E,B,D]\n",
      "[ 54 C,A,E,D,B]\n",
      "[ 55 C,B,A,D,E]\n",
      "[ 56 C,B,A,E,D]\n",
      "[ 57 C,B,D,A,E]\n",
      "[ 58 C,B,D,E,A]\n",
      "[ 59 C,B,E,A,D]\n",
      "[ 60 C,B,E,D,A]\n",
      "[ 61 C,D,A,B,E]\n",
      "[ 62 C,D,A,E,B]\n",
      "[ 63 C,D,B,A,E]\n",
      "[ 64 C,D,B,E,A]\n",
      "[ 65 C,D,E,A,B]\n",
      "[ 66 C,D,E,B,A]\n",
      "[ 67 C,E,A,B,D]\n",
      "[ 68 C,E,A,D,B]\n",
      "[ 69 C,E,B,A,D]\n",
      "[ 70 C,E,B,D,A]\n",
      "[ 71 C,E,D,A,B]\n",
      "[ 72 C,E,D,B,A]\n",
      "[ 73 D,A,B,C,E]\n",
      "[ 74 D,A,B,E,C]\n",
      "[ 75 D,A,C,B,E]\n",
      "[ 76 D,A,C,E,B]\n",
      "[ 77 D,A,E,B,C]\n",
      "[ 78 D,A,E,C,B]\n",
      "[ 79 D,B,A,C,E]\n",
      "[ 80 D,B,A,E,C]\n",
      "[ 81 D,B,C,A,E]\n",
      "[ 82 D,B,C,E,A]\n",
      "[ 83 D,B,E,A,C]\n",
      "[ 84 D,B,E,C,A]\n",
      "[ 85 D,C,A,B,E]\n",
      "[ 86 D,C,A,E,B]\n",
      "[ 87 D,C,B,A,E]\n",
      "[ 88 D,C,B,E,A]\n",
      "[ 89 D,C,E,A,B]\n",
      "[ 90 D,C,E,B,A]\n",
      "[ 91 D,E,A,B,C]\n",
      "[ 92 D,E,A,C,B]\n",
      "[ 93 D,E,B,A,C]\n",
      "[ 94 D,E,B,C,A]\n",
      "[ 95 D,E,C,A,B]\n",
      "[ 96 D,E,C,B,A]\n",
      "[ 97 E,A,B,C,D]\n",
      "[ 98 E,A,B,D,C]\n",
      "[ 99 E,A,C,B,D]\n",
      "[100 E,A,C,D,B]\n",
      "[101 E,A,D,B,C]\n",
      "[102 E,A,D,C,B]\n",
      "[103 E,B,A,C,D]\n",
      "[104 E,B,A,D,C]\n",
      "[105 E,B,C,A,D]\n",
      "[106 E,B,C,D,A]\n",
      "[107 E,B,D,A,C]\n",
      "[108 E,B,D,C,A]\n",
      "[109 E,C,A,B,D]\n",
      "[110 E,C,A,D,B]\n",
      "[111 E,C,B,A,D]\n",
      "[112 E,C,B,D,A]\n",
      "[113 E,C,D,A,B]\n",
      "[114 E,C,D,B,A]\n",
      "[115 E,D,A,B,C]\n",
      "[116 E,D,A,C,B]\n",
      "[117 E,D,B,A,C]\n",
      "[118 E,D,B,C,A]\n",
      "[119 E,D,C,A,B]\n",
      "[120 E,D,C,B,A]\n"
     ]
    }
   ],
   "source": [
    "'''\n",
    "使用枚舉法將[A, B, C, D, E] 所有的排列，一一列舉出來\n",
    "使用 continue 減少測試數量\n",
    "'''\n",
    "\n",
    "count = 0\n",
    "c = 65\n",
    "for i in range(0,5):\n",
    "    for j in range(0,5):\n",
    "        if (j==i):\n",
    "            continue\n",
    "        for k in range(0,5):\n",
    "            if (k==j or k==i):\n",
    "                continue\n",
    "            for l in range(0,5):\n",
    "                if (l==k or l==j or l==i):\n",
    "                    continue\n",
    "                for m in range(0,5):\n",
    "                    if(m==l or m==k or m==j or m==i):\n",
    "                        continue\n",
    "                    count+=1\n",
    "                    print(f\"[{count:3d} { chr(c+i)},{chr(c+j)},{chr(c+k)},{chr(c+l)},{chr(c+m)}]\")\n"
   ]
  },
  {
   "cell_type": "code",
   "execution_count": 4,
   "id": "de4a588f",
   "metadata": {},
   "outputs": [
    {
     "name": "stdout",
     "output_type": "stream",
     "text": [
      " 1 [1,2,3,4]\n",
      " 2 [1,2,3,5]\n",
      " 3 [1,2,3,6]\n",
      " 4 [1,2,4,5]\n",
      " 5 [1,2,4,6]\n",
      " 6 [1,2,5,6]\n",
      " 7 [1,3,4,5]\n",
      " 8 [1,3,4,6]\n",
      " 9 [1,3,5,6]\n",
      "10 [1,4,5,6]\n",
      "11 [2,3,4,5]\n",
      "12 [2,3,4,6]\n",
      "13 [2,3,5,6]\n",
      "14 [2,4,5,6]\n",
      "15 [3,4,5,6]\n"
     ]
    }
   ],
   "source": [
    "'''\n",
    "Created on 2022年3月1日\n",
    "\n",
    "@author: xvpow\n",
    "'''\n",
    "count = 0\n",
    "for i in range(1,7):\n",
    "    for j in range(1,7):\n",
    "        for k in range(1,7):\n",
    "            for l in range(1,7):\n",
    "                if (i < j and j < k and k < l):\n",
    "                    count+=1\n",
    "                    print(f\"{count:2d} [{i},{j},{k},{l}]\")"
   ]
  },
  {
   "cell_type": "code",
   "execution_count": 7,
   "id": "b6245821",
   "metadata": {},
   "outputs": [
    {
     "name": "stdout",
     "output_type": "stream",
     "text": [
      " 1 [A,B,C]\n",
      " 2 [A,B,D]\n",
      " 3 [A,B,E]\n",
      " 4 [A,B,F]\n",
      " 5 [A,C,D]\n",
      " 6 [A,C,E]\n",
      " 7 [A,C,F]\n",
      " 8 [A,D,E]\n",
      " 9 [A,D,F]\n",
      "10 [A,E,F]\n",
      "11 [B,C,D]\n",
      "12 [B,C,E]\n",
      "13 [B,C,F]\n",
      "14 [B,D,E]\n",
      "15 [B,D,F]\n",
      "16 [B,E,F]\n",
      "17 [C,D,E]\n",
      "18 [C,D,F]\n",
      "19 [C,E,F]\n",
      "20 [D,E,F]\n"
     ]
    }
   ],
   "source": [
    "'''\n",
    "使用枚舉法列舉 [A, B, C, D, E, F] 中取三個元素的所有組合\n",
    "使用 continue 減少測試數量\n",
    "'''\n",
    "count = 0\n",
    "c = 65\n",
    "for i in range(0,6):\n",
    "    for j in range(0,6):\n",
    "        if j <= i:\n",
    "            continue\n",
    "        for k in range(0,6):\n",
    "            if k <= j:\n",
    "             continue\n",
    "            count+=1\n",
    "            print(f\"{count:2d} [{chr(c+i)},{chr(c+j)},{chr(c+k)}]\")"
   ]
  },
  {
   "cell_type": "code",
   "execution_count": 8,
   "id": "384ba506",
   "metadata": {},
   "outputs": [
    {
     "name": "stdout",
     "output_type": "stream",
     "text": [
      "(1, 2, 3, 4)\n",
      "(1, 2, 4, 3)\n",
      "(1, 3, 2, 4)\n",
      "(1, 3, 4, 2)\n",
      "(1, 4, 2, 3)\n",
      "(1, 4, 3, 2)\n",
      "(2, 1, 3, 4)\n",
      "(2, 1, 4, 3)\n",
      "(2, 3, 1, 4)\n",
      "(2, 3, 4, 1)\n",
      "(2, 4, 1, 3)\n",
      "(2, 4, 3, 1)\n",
      "(3, 1, 2, 4)\n",
      "(3, 1, 4, 2)\n",
      "(3, 2, 1, 4)\n",
      "(3, 2, 4, 1)\n",
      "(3, 4, 1, 2)\n",
      "(3, 4, 2, 1)\n",
      "(4, 1, 2, 3)\n",
      "(4, 1, 3, 2)\n",
      "(4, 2, 1, 3)\n",
      "(4, 2, 3, 1)\n",
      "(4, 3, 1, 2)\n",
      "(4, 3, 2, 1)\n"
     ]
    }
   ],
   "source": [
    "'''\n",
    "permutations 套件練習 排列\n",
    "'''\n",
    "from itertools import permutations\n",
    "perm = permutations([1,2,3,4])\n",
    "for i in list(perm):\n",
    "    print(i)"
   ]
  },
  {
   "cell_type": "code",
   "execution_count": 9,
   "id": "ee67e24d",
   "metadata": {},
   "outputs": [
    {
     "name": "stdout",
     "output_type": "stream",
     "text": [
      "(1, 2, 3)\n",
      "(1, 2, 4)\n",
      "(1, 2, 5)\n",
      "(1, 2, 6)\n",
      "(1, 3, 4)\n",
      "(1, 3, 5)\n",
      "(1, 3, 6)\n",
      "(1, 4, 5)\n",
      "(1, 4, 6)\n",
      "(1, 5, 6)\n",
      "(2, 3, 4)\n",
      "(2, 3, 5)\n",
      "(2, 3, 6)\n",
      "(2, 4, 5)\n",
      "(2, 4, 6)\n",
      "(2, 5, 6)\n",
      "(3, 4, 5)\n",
      "(3, 4, 6)\n",
      "(3, 5, 6)\n",
      "(4, 5, 6)\n"
     ]
    }
   ],
   "source": [
    "'''\n",
    "Combinations 組合\n",
    "'''\n",
    "from itertools import combinations\n",
    "comb = combinations([1,2,3,4,5,6],3)\n",
    "for i in list(comb):\n",
    "    print(i)"
   ]
  },
  {
   "cell_type": "code",
   "execution_count": 10,
   "id": "eade94cc",
   "metadata": {},
   "outputs": [
    {
     "name": "stdout",
     "output_type": "stream",
     "text": [
      "輸入一個正整數37\n",
      "37是質數\n",
      "小於等於37的質數: [2, 3, 5, 7, 11, 13, 17, 19, 23, 29, 31, 37]\n"
     ]
    }
   ],
   "source": [
    "'''\n",
    "程式範例：質數驗證\n",
    "'''\n",
    "#檢查是否為質數\n",
    "def is_prime(number):\n",
    "    for i in range(2,number):\n",
    "        if number % i == 0:\n",
    "            return False\n",
    "    return True\n",
    "n = int(input(\"輸入一個正整數\"))\n",
    "if is_prime(n):\n",
    "    print(f\"{n}是質數\")\n",
    "else:\n",
    "    print(f\"{n}不是質數\")\n",
    "\n",
    "primeNums=[]\n",
    "#顯示小於等於n的質數\n",
    "for j in range(2 , n + 1):\n",
    "    if is_prime(j):\n",
    "        primeNums.append(j);       \n",
    "print(f\"小於等於{n}的質數:\",primeNums)        "
   ]
  },
  {
   "cell_type": "code",
   "execution_count": 1,
   "id": "f70fe9ad",
   "metadata": {},
   "outputs": [
    {
     "name": "stdout",
     "output_type": "stream",
     "text": [
      "輸入一個正整數37\n",
      "小於等於37的質數: [2, 3, 5, 7, 11, 13, 17, 19, 23, 29, 31, 37]\n"
     ]
    }
   ],
   "source": [
    "'''\n",
    "質數驗證 使用埃拉斯托特尼篩法\n",
    "'''\n",
    "import math\n",
    "def is_prime(num):\n",
    "    #+1原因必須包含到開根號後的整數 例如:5.2 取整數為5 加1變6 這樣i才會產生2~5的\n",
    "    for i in range(2,int(math.sqrt(num)+ 1)):\n",
    "        if num %i==0:\n",
    "            return False\n",
    "    return True    \n",
    "#紀錄小於等於n的質數\n",
    "def primeList(number):\n",
    "    primes = []\n",
    "    for n  in range(2 , number+1):\n",
    "        if  is_prime(n):\n",
    "          primes.append(n)\n",
    "    return primes        \n",
    "        \n",
    "N = int(input(\"輸入一個正整數\"))\n",
    "\n",
    "pNumbers = primeList(N)\n",
    "print(f\"小於等於{N}的質數:\",pNumbers)      \n"
   ]
  },
  {
   "cell_type": "code",
   "execution_count": 13,
   "id": "8af67ff4",
   "metadata": {},
   "outputs": [
    {
     "name": "stdout",
     "output_type": "stream",
     "text": [
      "輸入一個正整數10\n",
      "小於等於10的質數: [2, 3, 5, 7]\n"
     ]
    }
   ],
   "source": [
    "import math\n",
    "#紀錄小於等於n的質數\n",
    "def primeList(number):\n",
    "    primes = []\n",
    "    for n  in range(2 , number+1):\n",
    "        for i in primes:\n",
    "            if n %i == 0:\n",
    "                break\n",
    "        else:\n",
    "            primes.append(n)\n",
    "    return    primes  \n",
    "N = int(input(\"輸入一個正整數\"))\n",
    "\n",
    "pNumbers = primeList(N)\n",
    "print(f\"小於等於{N}的質數:\",pNumbers)      \n"
   ]
  },
  {
   "cell_type": "code",
   "execution_count": 2,
   "id": "516c6a3c",
   "metadata": {},
   "outputs": [
    {
     "name": "stdout",
     "output_type": "stream",
     "text": [
      "輸入一個整數:72\n",
      "72=2*2*2*3*3\n",
      "輸入一個整數:36\n",
      "36=2*2*3*3\n",
      "輸入一個整數:-1\n"
     ]
    }
   ],
   "source": [
    "'''\n",
    "質因數分解\n",
    "\n",
    "'''\n",
    "while True:\n",
    "    n= int(input(\"輸入一個整數:\"))\n",
    "    if n== -1:\n",
    "        break\n",
    "    print(f\"{n}=\",end='')\n",
    "    while n > 1:\n",
    "        for i in range(2,n+1):\n",
    "            if n %i == 0:\n",
    "                n = n //i\n",
    "                if n == 1:\n",
    "                    print(f\"{i}\\n\",end='')\n",
    "                else:\n",
    "                    print(f\"{i}*\",end='')    \n",
    "                break    "
   ]
  },
  {
   "cell_type": "code",
   "execution_count": 15,
   "id": "085adb03",
   "metadata": {},
   "outputs": [
    {
     "name": "stdout",
     "output_type": "stream",
     "text": [
      "輸入一個整數:72\n",
      "72=2*2*2*3*3\n",
      "輸入一個整數:-1\n"
     ]
    }
   ],
   "source": [
    "'''\n",
    "質因數分解\n",
    "引用埃拉斯托特尼篩法，檢查範圍改為2到√ x \n",
    "'''\n",
    "from math import sqrt\n",
    "while True:\n",
    "    n= int(input(\"輸入一個整數:\"))\n",
    "    if n== -1:\n",
    "        break\n",
    "    print(f\"{n}=\",end='')\n",
    "    while True:\n",
    "        for i in range(2,int(sqrt(n)) + 1):\n",
    "            if n %i == 0:\n",
    "                n = int(n /i)\n",
    "                print(f\"{i}*\",end='')    \n",
    "                break\n",
    "        else:\n",
    "            print(n)\n",
    "            break    "
   ]
  },
  {
   "cell_type": "code",
   "execution_count": 16,
   "id": "3d0ffb64",
   "metadata": {},
   "outputs": [
    {
     "name": "stdout",
     "output_type": "stream",
     "text": [
      "輸入整數2\n",
      "2的平方根1\n",
      "2的平方根1.41\n"
     ]
    }
   ],
   "source": [
    "def square_root1(x):\n",
    "    i = 1\n",
    "    while i*i < x:\n",
    "        i +=1\n",
    "        if i*i == x:\n",
    "            return i\n",
    "    return i - 1    \n",
    "    \n",
    "def square_root2(x,pre=2):\n",
    "    step = 1\n",
    "    r = step\n",
    "    while step >= 10**-pre:                \n",
    "         while(r*r < x):\n",
    "             r+=step \n",
    "             if(r*r == x):\n",
    "                 return r\n",
    "         r -= step\n",
    "         step/=10\n",
    "    return r           \n",
    "num = int(input('輸入整數'))   \n",
    "print(f'{num}的平方根{square_root1(num)}')\n",
    "print(f'{num}的平方根{square_root2(num):.2f}')"
   ]
  },
  {
   "cell_type": "code",
   "execution_count": 17,
   "id": "48fd5a82",
   "metadata": {},
   "outputs": [
    {
     "name": "stdout",
     "output_type": "stream",
     "text": [
      "輸入數值:25\n",
      "輸入基數:2\n",
      "25以2為底的對數為:4.643856\n"
     ]
    }
   ],
   "source": [
    "'''\n",
    "十分逼近法練習：log\n",
    "'''\n",
    "def myLog(a,b,pre=6):\n",
    "    step = 1\n",
    "    ans=step\n",
    "    while(step >= 10**-pre):\n",
    "        while (b ** ans < a):\n",
    "            ans += step\n",
    "            if(b ** ans == a):\n",
    "              return ans\n",
    "        ans -= step\n",
    "        step/=10\n",
    "    return ans\n",
    "\n",
    "a = int(input('輸入數值:'))\n",
    "b = int(input('輸入基數:'))\n",
    "print(f\"{a}以{b}為底的對數為:{myLog(a,b):.6f}\")        "
   ]
  },
  {
   "cell_type": "code",
   "execution_count": 18,
   "id": "61461e67",
   "metadata": {},
   "outputs": [
    {
     "name": "stdout",
     "output_type": "stream",
     "text": [
      "5    7    9\n",
      "34    68    12\n",
      "\n",
      "5    9    7\n",
      "34    12    68\n",
      "\n",
      "7    5    9\n",
      "68    34    12\n",
      "\n",
      "7    9    5\n",
      "68    12    34\n",
      "\n",
      "9    5    7\n",
      "12    34    68\n",
      "\n",
      "9    7    5\n",
      "12    68    34\n",
      "\n"
     ]
    }
   ],
   "source": [
    "list_1to9 = [1,2,3,4,5,6,7,8,9]\n",
    "count=0\n",
    "for a in list_1to9:\n",
    "    list_a= list_1to9.copy()\n",
    "    list_a.remove(a)\n",
    "    for b in list_a:\n",
    "     list_b= list_a.copy()\n",
    "     list_b.remove(b)\n",
    "     for c in list_b:\n",
    "        list_c= list_b.copy()\n",
    "        list_c.remove(c)\n",
    "        for d in list_c:\n",
    "         list_d=list_c.copy()\n",
    "         list_d.remove(d) \n",
    "         for e in list_d:\n",
    "          list_e =list_d.copy()\n",
    "          list_e.remove(e)\n",
    "          for f in list_e:\n",
    "            list_f = list_e.copy()\n",
    "            list_f.remove(f)\n",
    "            for g in list_f:\n",
    "             list_g = list_f.copy()\n",
    "             list_g.remove(g)\n",
    "             for h in list_g:\n",
    "              list_h = list_g.copy()\n",
    "              list_h.remove(h)\n",
    "              for i in list_h:\n",
    "                  count+=1                 \n",
    "                  if (a/(b*10.+c) + d/(e*10.+f)+g/(h*10.+i)) == 1:\n",
    "                      print(f'{a}    {d}    {g}')\n",
    "                      print(f'{b}{c}    {e}{f}    {h}{i}')\n",
    "                      print()\n",
    "                    "
   ]
  },
  {
   "cell_type": "code",
   "execution_count": 19,
   "id": "d9cde699",
   "metadata": {},
   "outputs": [
    {
     "name": "stdout",
     "output_type": "stream",
     "text": [
      "5    7   9\n",
      "34 68 12\n",
      "\n",
      "5    9   7\n",
      "34 12 68\n",
      "\n",
      "7    5   9\n",
      "68 34 12\n",
      "\n",
      "7    9   5\n",
      "68 12 34\n",
      "\n",
      "9    5   7\n",
      "12 34 68\n",
      "\n",
      "9    7   5\n",
      "12 68 34\n",
      "\n"
     ]
    }
   ],
   "source": [
    "import itertools\n",
    "list_1to9 = [1,2,3,4,5,6,7,8,9]\n",
    "perm_list = list(itertools.permutations(list_1to9))\n",
    "for i in perm_list:\n",
    "  if (i[0]/(i[1]*10.+i[2]) + i[3]/(i[4]*10.+i[5])+i[6]/(i[7]*10.+i[8])) == 1:\n",
    "       print(f'{i[0]}    {i[3]}   {i[6]}')\n",
    "       print(f'{i[1]}{i[2]} {i[4]}{i[5]} {i[7]}{i[8]}')\n",
    "       print()\n",
    "    \n",
    "                    "
   ]
  },
  {
   "cell_type": "code",
   "execution_count": 20,
   "id": "527d7f48",
   "metadata": {},
   "outputs": [
    {
     "name": "stdout",
     "output_type": "stream",
     "text": [
      "69153 - 2487 =66666\n",
      "69513 - 2847 =66666\n",
      "71358 - 4692 =66666\n",
      "71529 - 4863 =66666\n",
      "71934 - 5268 =66666\n",
      "73158 - 6492 =66666\n",
      "73194 - 6528 =66666\n",
      "73491 - 6825 =66666\n",
      "74931 - 8265 =66666\n",
      "75129 - 8463 =66666\n"
     ]
    }
   ],
   "source": [
    "from itertools import permutations\n",
    "\n",
    "listo9=[1,2,3,4,5,6,7,8,9]\n",
    "plist = list(permutations(listo9))\n",
    "\n",
    "# list[4] - list[8] 個位數是6\n",
    "# list[8] - list[4] 借位做減法後為6\n",
    "# 313 - 137 借位後相減為6\n",
    "for list in plist:\n",
    "    if (list[0] == 6 or list[0] == 7):\n",
    "        if ((list[4] - list[8] == 6) or (list[8] - list[4] == 4)):\n",
    "            n1 = list[0] * 10000 + list[1]*1000 + list[2] * 100 + list[3] * 10 + list[4]\n",
    "            n2 = list[5] * 1000 + list[6]*100 + list[7]*10 + list[8]\n",
    "            if (n1-n2) == 66666:\n",
    "                print(n1,\"-\",n2,\"=66666\")\n"
   ]
  },
  {
   "cell_type": "code",
   "execution_count": 33,
   "id": "b59aa65c",
   "metadata": {},
   "outputs": [
    {
     "name": "stdout",
     "output_type": "stream",
     "text": [
      "輸入總人數:12\n",
      "淘汰間距:3\n",
      "[1, 2, 3, 4, 5, 6, 7, 8, 9, 10, 11, 12]\t3\n",
      "[1, 2, 4, 5, 6, 7, 8, 9, 10, 11, 12]\t6\n",
      "[1, 2, 4, 5, 7, 8, 9, 10, 11, 12]\t9\n",
      "[1, 2, 4, 5, 7, 8, 10, 11, 12]\t12\n",
      "[1, 2, 4, 5, 7, 8, 10, 11]\t4\n",
      "[1, 2, 5, 7, 8, 10, 11]\t8\n",
      "[1, 2, 5, 7, 10, 11]\t1\n",
      "[2, 5, 7, 10, 11]\t7\n",
      "[2, 5, 10, 11]\t2\n",
      "[5, 10, 11]\t11\n",
      "[5, 10]\t5\n",
      "survivor:  10\n"
     ]
    }
   ],
   "source": [
    "def josephus(ls, skip):\n",
    "    idx = skip-1\n",
    "    while len(ls) > 1:\n",
    "        print(ls,end='\\t')\n",
    "        print(ls.pop(idx))\n",
    "        idx = (idx+skip-1) % len(ls)\n",
    "    print('survivor: ', ls[0])\n",
    "\n",
    "n = int(input('輸入總人數:'))\n",
    "m = int(input('淘汰間距:'))\n",
    "list1 = [*range(1,n+1)]\n",
    "josephus(list1, m)\n"
   ]
  },
  {
   "cell_type": "code",
   "execution_count": null,
   "id": "d1439749",
   "metadata": {},
   "outputs": [],
   "source": []
  }
 ],
 "metadata": {
  "kernelspec": {
   "display_name": "Python 3 (ipykernel)",
   "language": "python",
   "name": "python3"
  },
  "language_info": {
   "codemirror_mode": {
    "name": "ipython",
    "version": 3
   },
   "file_extension": ".py",
   "mimetype": "text/x-python",
   "name": "python",
   "nbconvert_exporter": "python",
   "pygments_lexer": "ipython3",
   "version": "3.8.11"
  }
 },
 "nbformat": 4,
 "nbformat_minor": 5
}
