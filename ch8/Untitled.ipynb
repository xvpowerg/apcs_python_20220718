{
 "cells": [
  {
   "cell_type": "code",
   "execution_count": 1,
   "id": "31057e1a",
   "metadata": {},
   "outputs": [
    {
     "name": "stdout",
     "output_type": "stream",
     "text": [
      "循序讀取:5, 15, 25, 35, 45, \n",
      "索引讀取:5, 15, 25, 35, 45, \n",
      "插入元素\n",
      "[5, 15, 100, 25, 35, 45]\n",
      "附加元素\n",
      "[5, 15, 100, 25, 35, 45, 100]\n",
      "修改元素\n",
      "[5, 15, 20, 25, 35, 45, 100]\n",
      "刪除元素\n",
      "[5, 15, 25, 35, 45, 100]\n",
      "彈出: 100\n",
      "[5, 15, 25, 35, 45]\n",
      "彈出: 25\n",
      "[5, 15, 35, 45]\n"
     ]
    }
   ],
   "source": [
    "x = [5, 15, 25, 35, 45]                 # 建立無號整數陣列\n",
    "print(\"循序讀取:\", end='')\n",
    "for data in x:\n",
    "    print(data, end=', ')               # 循序讀取\n",
    "\n",
    "print(\"\\n索引讀取:\", end='')\n",
    "for i in range(len(x)):\n",
    "    print(x[i], end=', ')               # 使用索引隨機讀取\n",
    "\n",
    "print(\"\\n插入元素\")\n",
    "x.insert(2, 100)                        # 指定位置插入元素\n",
    "print(x)\n",
    "\n",
    "print(\"附加元素\") \n",
    "x.append(100)                           # 附加元素於陣列尾端\n",
    "print(x)\n",
    "\n",
    "print(\"修改元素\") \n",
    "x[2] = 20                              # 修改指定索引元素\n",
    "print(x)\n",
    "\n",
    "print(\"刪除元素\") \n",
    "x.remove(20)                            # 刪除指定元素\n",
    "print(x)\n",
    "\n",
    "n = x.pop()                             # 彈出元素\n",
    "print('彈出:', n)\n",
    "print(x)\n",
    "\n",
    "n = x.pop(2)                            # 彈出元素\n",
    "print('彈出:', n)\n",
    "print(x)\n"
   ]
  },
  {
   "cell_type": "code",
   "execution_count": 1,
   "id": "af0bd713",
   "metadata": {},
   "outputs": [
    {
     "name": "stdout",
     "output_type": "stream",
     "text": [
      "循序讀取:5, 15, 25, 35, 45, \n",
      "索引讀取:5, 15, 25, 35, 45, \n",
      "索引2插入100\n",
      "array('i', [5, 15, 100, 25, 35, 45])\n",
      "附加100\n",
      "array('i', [5, 15, 100, 25, 35, 45, 100])\n",
      "修改索引2為20\n",
      "array('i', [5, 15, 20, 25, 35, 45, 100])\n",
      "刪除20\n",
      "array('i', [5, 15, 25, 35, 45, 100])\n",
      "彈出元素: 100\n",
      "array('i', [5, 15, 25, 35, 45])\n",
      "彈出索引2: 25\n",
      "array('i', [5, 15, 35, 45])\n",
      "35位於索引2\n"
     ]
    }
   ],
   "source": [
    "from array import *\n",
    "x = array('i', [5, 15, 25, 35, 45])     # 建立無號整數陣列\n",
    "print(\"循序讀取:\", end='')\n",
    "for data in x:\n",
    "    print(data, end=', ')               # 循序讀取\n",
    "\n",
    "print(\"\\n索引讀取:\", end='')\n",
    "for i in range(len(x)):\n",
    "    print(x[i], end=', ')               # 使用索引隨機讀取\n",
    "\n",
    "print(\"\\n索引2插入100\")\n",
    "x.insert(2, 100)                        # 指定位置插入元素\n",
    "print(x)\n",
    "\n",
    "print(\"附加100\") \n",
    "x.append(100)                           # 附加元素於陣列尾端\n",
    "print(x)\n",
    "\n",
    "print(\"修改索引2為20\") \n",
    "x[2] = 20                              # 修改指定索引元素\n",
    "print(x)\n",
    "\n",
    "print(\"刪除20\") \n",
    "x.remove(20)                            # 刪除指定元素\n",
    "print(x)\n",
    "\n",
    "n = x.pop()                             # 彈出元素\n",
    "print('彈出元素:', n)\n",
    "print(x)\n",
    "\n",
    "n = x.pop(2)                            # 彈出元素\n",
    "print('彈出索引2:', n)\n",
    "print(x)\n",
    "\n",
    "i = x.index(35)                         # 取得元素索引\n",
    "print(\"35位於索引%d\" %i)\n"
   ]
  },
  {
   "cell_type": "code",
   "execution_count": 2,
   "id": "32756105",
   "metadata": {},
   "outputs": [
    {
     "name": "stdout",
     "output_type": "stream",
     "text": [
      "第 1 位學生的分數:87\n",
      "第 2 位學生的分數:66\n",
      "第 3 位學生的分數:90\n",
      "第 4 位學生的分數:65\n",
      "第 5 位學生的分數:70\n",
      "-------------------------\n",
      "總分:378\n",
      "平均:75\n",
      "最高分:90\n",
      "最低分:65\n"
     ]
    }
   ],
   "source": [
    "scores=[87,66,90,65,70]\n",
    "score_sum=0\n",
    "counts=len(scores)\n",
    "score_max=0\n",
    "score_min=100\n",
    "for i in range(counts):\n",
    "    print('第 %d 位學生的分數:%d' %(i+1, scores[i]))\n",
    "    score_sum+=scores[i]\n",
    "    if(scores[i]>score_max):\n",
    "        score_max = scores[i]\n",
    "    if(scores[i]<score_min):\n",
    "        score_min = scores[i]\n",
    "\n",
    "print('-------------------------')\n",
    "print('總分:%d'   %score_sum)\n",
    "print('平均:%d'   %(score_sum/counts))\n",
    "print('最高分:%d' %score_max)\n",
    "print('最低分:%d' %score_min)\n"
   ]
  },
  {
   "cell_type": "code",
   "execution_count": 3,
   "id": "6af174d6",
   "metadata": {},
   "outputs": [
    {
     "name": "stdout",
     "output_type": "stream",
     "text": [
      "第 1 位學生的分數:87\n",
      "第 2 位學生的分數:66\n",
      "第 3 位學生的分數:90\n",
      "第 4 位學生的分數:65\n",
      "第 5 位學生的分數:70\n",
      "-------------------------\n",
      "總分:378\n",
      "平均:75\n",
      "最高分:90\n",
      "最低分:65\n"
     ]
    }
   ],
   "source": [
    "from statistics import mean\n",
    "scores=[87,66,90,65,70]\n",
    "i = 0\n",
    "for score in scores:\n",
    "    i += 1\n",
    "    print('第 %d 位學生的分數:%d' %(i, score))\n",
    "\n",
    "score_sum = sum(scores)\n",
    "score_avg = mean(scores)\n",
    "score_max = max(scores)\n",
    "score_min = min(scores)\n",
    "\n",
    "\n",
    "print('-------------------------')\n",
    "print('總分:%d'   %score_sum)\n",
    "print('平均:%d'   %score_avg)\n",
    "print('最高分:%d' %score_max)\n",
    "print('最低分:%d' %score_min)\n"
   ]
  },
  {
   "cell_type": "code",
   "execution_count": 4,
   "id": "86238fd7",
   "metadata": {},
   "outputs": [
    {
     "name": "stdout",
     "output_type": "stream",
     "text": [
      "[1, 4, 9, 16, 25, 36, 49, 64, 81]\n",
      "[11, 13, 15, 17, 19]\n",
      "[32.0, 50.0, 68.0, 86.0, 104.0, 122.0, 140.0, 158.0, 176.0, 194.0, 212.0]\n"
     ]
    }
   ],
   "source": [
    "y = [x**2 for x in range(1,10)]\n",
    "print(y)\n",
    "z = [x+10 for x in range(1,10) if x%2!=0]\n",
    "print(z)\n",
    "celsius = [0, 10, 20, 30, 40, 50, 60, 70, 80, 90, 100]\n",
    "fahrenheit = [9/5*x+32 for x in celsius]\n",
    "print(fahrenheit)"
   ]
  },
  {
   "cell_type": "code",
   "execution_count": 6,
   "id": "899b863f",
   "metadata": {},
   "outputs": [
    {
     "name": "stdout",
     "output_type": "stream",
     "text": [
      "輸入陣列資料個數:4\n",
      "輸入整數1:1\n",
      "輸入整數2:-1\n",
      "輸入整數3:1\n",
      "輸入整數4:-1\n",
      "不是遞增陣列\n",
      "正負交錯陣列\n",
      "[1, -1, 1, -1]\n"
     ]
    }
   ],
   "source": [
    "num = int(input('輸入陣列資料個數:'))\n",
    "\n",
    "arr = [0]*num\n",
    "\n",
    "for i in range(num):\n",
    "    arr[i] = int(input('輸入整數%d:' %(i+1)))\n",
    "\n",
    "for j in range(num-1):\n",
    "    if arr[j]>=arr[j+1]:\n",
    "        print('不是遞增陣列')\n",
    "        break\n",
    "else:\n",
    "    print('遞增陣列')\n",
    "\n",
    "for k in range(num-1):\n",
    "    if(arr[k]*arr[k+1]>=0):\n",
    "        print('不是正負交錯')\n",
    "        break\n",
    "else:\n",
    "    print('正負交錯陣列')\n",
    "\n",
    "print(arr)\n"
   ]
  },
  {
   "cell_type": "code",
   "execution_count": 4,
   "id": "f1e3ab08",
   "metadata": {},
   "outputs": [
    {
     "name": "stdout",
     "output_type": "stream",
     "text": [
      "10\n",
      "5\n",
      "(0,0) (0,1) (0,2) (0,3) (0,4)\n",
      "(1,0) (1,1) (1,2) (1,3) (1,4)\n",
      "(2,0) (2,1) (2,2) (2,3) (2,4)\n",
      "(3,0) (3,1) (3,2) (3,3) (3,4)\n",
      "(4,0) (4,1) (4,2) (4,3) (4,4)\n",
      "(5,0) (5,1) (5,2) (5,3) (5,4)\n",
      "(6,0) (6,1) (6,2) (6,3) (6,4)\n",
      "(7,0) (7,1) (7,2) (7,3) (7,4)\n",
      "(8,0) (8,1) (8,2) (8,3) (8,4)\n",
      "(9,0) (9,1) (9,2) (9,3) (9,4)\n"
     ]
    }
   ],
   "source": [
    "p = [[''] * 5 for i in range(10)] #10*5\n",
    "\n",
    "print(len(p))\n",
    "print(len(p[0]))\n",
    "\n",
    "for i in range(len(p)):\n",
    " for j in range(len(p[0])): \n",
    "     p[i][j] =\"({0},{1})\".format(i,j)   \n",
    "     \n",
    "# for v1 in p:\n",
    "#    for v2 in v1: \n",
    "#      print(v2,end=\" \")      \n",
    "#    print()  \n",
    "for r in range(len(p)):\n",
    "    cLen = len( p[0])\n",
    "    for c in range(cLen):\n",
    "        print(p[r][c],end=\"\")\n",
    "        if c < (cLen-1): #去除尾部空格\n",
    "         print(\" \",end=\"\")\n",
    "    print()    \n"
   ]
  },
  {
   "cell_type": "code",
   "execution_count": 5,
   "id": "b7640457",
   "metadata": {},
   "outputs": [
    {
     "name": "stdout",
     "output_type": "stream",
     "text": [
      "Sean: [70, 80, 90]\n",
      "David: 70\n",
      "[60, 55, 70]\n",
      "[70, 80, 90]\n",
      "[77, 88, 99]\n"
     ]
    }
   ],
   "source": [
    "Sean,David,Amy = 0,1,2\n",
    "Ch,En,Ma = 0,1,2\n",
    "scores = [[70,80,90],\n",
    "         [60,55,70],\n",
    "         [77,88,99]]\n",
    "print(\"Sean:\",scores[Sean])\n",
    "print(\"David:\",scores[David][Ma])\n",
    "scores.sort(key=sum) #用加總排序\n",
    "for s in scores:\n",
    "    print(s)"
   ]
  },
  {
   "cell_type": "code",
   "execution_count": 8,
   "id": "01449a33",
   "metadata": {},
   "outputs": [
    {
     "name": "stdout",
     "output_type": "stream",
     "text": [
      "最大值= 101\n",
      "最小值= 8\n"
     ]
    }
   ],
   "source": [
    "nums=[[[33,45,67],[23,71,66],[55,38,66]],\n",
    "      [[21,9,15],[38,69,18],[90,101,89]],\n",
    "      [[50,32,72],[68,8,29],[88,24,9]],]    # 宣告三維陣列\n",
    "max_value = nums[0][0][0]                   # 最大值設定為num陣列的第一個元素\n",
    "min_value = nums[0][0][0]                   # 最小值設定為num陣列的第一個元素\n",
    "for i in range(len(nums)):\n",
    "    for j in range(len(nums[i])):\n",
    "        for k in range(len(nums[i][j])):\n",
    "            if(max_value<nums[i][j][k]):\n",
    "                max_value=nums[i][j][k]      # 利用三層迴圈找出最大值\n",
    "            if(min_value>nums[i][j][k]):\n",
    "                min_value=nums[i][j][k]      # 利用三層迴圈找出最小值\n",
    "\n",
    "print(\"最大值= %d\" %max_value)\n",
    "print(\"最小值= %d\" %min_value)\n"
   ]
  },
  {
   "cell_type": "code",
   "execution_count": 7,
   "id": "0c040256",
   "metadata": {},
   "outputs": [
    {
     "name": "stdout",
     "output_type": "stream",
     "text": [
      "座號\t國文\t英文\t數學\t平均\t不及格\n",
      "1\t50\t60\t70\t60.0\t1\t\n",
      "2\t30\t40\t50\t40.0\t3\t\n",
      "3\t70\t80\t90\t80.0\t0\t\n",
      "4\t66\t77\t88\t77.0\t0\t\n",
      "5\t22\t33\t44\t33.0\t3\t\n",
      "平均\t47.6\t58.0\t68.4\t\n",
      "不及格\t3\t2\t2\t\n"
     ]
    }
   ],
   "source": [
    "'''\n",
    "Created on 2022年6月6日\n",
    "\n",
    "@author: howard\n",
    "'''\n",
    "scores = [[50,60,70,0,0],\n",
    "          [30,40,50,0,0],\n",
    "          [70,80,90,0,0],\n",
    "          [66,77,88,0,0],\n",
    "          [22,33,44,0,0]]\n",
    "\n",
    "for i in range(len(scores)):\n",
    "    sSum = 0\n",
    "    for j in range(3):\n",
    "        sSum += scores[i][j]\n",
    "        if(scores[i][j]<60):\n",
    "           scores[i][4]+=1 #不及格數\n",
    "    scores[i][3] = sSum/3#平均數\n",
    "#print(scores)\n",
    "\n",
    "subjs = [[0]*3 for i in range(2)]#2x3陣列\n",
    "for x in range(3):\n",
    "    subjSum = 0\n",
    "    for y in range(5):\n",
    "        subjSum += scores[y][x]\n",
    "        if(scores[y][x]<60):\n",
    "           subjs[1][x] += 1 #不及格人數\n",
    "    subjs[0][x] = subjSum/5 #平均數\n",
    "#print(subjs)\n",
    "\n",
    "print('座號\\t國文\\t英文\\t數學\\t平均\\t不及格')\n",
    "for i in range(len(scores)):\n",
    "    print(i+1, end='\\t')\n",
    "    for j in range(5):\n",
    "        print(scores[i][j], end='\\t')\n",
    "    print()\n",
    "print('平均', end='\\t')\n",
    "for x in range(3):\n",
    "    print('%4.1f'%subjs[0][x], end='\\t')\n",
    "print()\n",
    "print('不及格', end='\\t')\n",
    "for y in range(3):\n",
    "    print(subjs[1][y], end='\\t')\n",
    "print()\n"
   ]
  },
  {
   "cell_type": "code",
   "execution_count": 9,
   "id": "efa723a8",
   "metadata": {},
   "outputs": [
    {
     "name": "stdout",
     "output_type": "stream",
     "text": [
      "f(3) = 10\n",
      "f(4) = 21\n"
     ]
    }
   ],
   "source": [
    "poly1 = [1,-3,2]#f(x) = 2𝑥^2 -3x + 1\n",
    "x = 3\n",
    "fx = 0\n",
    "for i in range(len(poly1)):\n",
    "    fx += poly1[i] * x ** i\n",
    "print(f\"f({x})={fx}\")\n",
    "\n",
    "poly2 = [3, 2, 2, -3, 1, 1, 0]\n",
    "y = 4\n",
    "fy = 0\n",
    "for j in range(poly2[0]):\n",
    "    fy += poly2[2*j+1]*y**poly2[2*(j+1)]\n",
    "print('f(%d) ='%y, fy)\n"
   ]
  },
  {
   "cell_type": "code",
   "execution_count": 10,
   "id": "35dd1920",
   "metadata": {},
   "outputs": [
    {
     "name": "stdout",
     "output_type": "stream",
     "text": [
      "2 5 10 \n",
      "5 8 13 \n"
     ]
    }
   ],
   "source": [
    "def printMatrix(matrix):\n",
    "    for i in range(len(matrix)):\n",
    "        for j in range(len(matrix[i])):\n",
    "            print(matrix[i][j], end=' ')\n",
    "        print()\n",
    "\n",
    "matrixA = []\n",
    "for i in range(2):\n",
    "    row = []\n",
    "    for j in range(3):\n",
    "        row.append((i+1)**2+(j+1)**2)\n",
    "    matrixA.append(row)\n",
    "\n",
    "printMatrix(matrixA)\n"
   ]
  },
  {
   "cell_type": "code",
   "execution_count": 11,
   "id": "01d7e45c",
   "metadata": {},
   "outputs": [
    {
     "name": "stdout",
     "output_type": "stream",
     "text": [
      "3 4 \n",
      "5 6 \n",
      "7 8 \n"
     ]
    }
   ],
   "source": [
    "def printMatrix(matrix):\n",
    "    for i in range(len(matrix)):\n",
    "        for j in range(len(matrix[i])):\n",
    "            print(matrix[i][j], end=' ')\n",
    "        print()\n",
    "\n",
    "matrixA = [[None] * 2 for row in range(3)]\n",
    "for i in range(len(matrixA)):\n",
    "    for j in range(len(matrixA[i])):\n",
    "        matrixA[i][j] = 2*(i+1)+(j+1)\n",
    "\n",
    "printMatrix(matrixA)\n"
   ]
  },
  {
   "cell_type": "code",
   "execution_count": 12,
   "id": "dcc6080a",
   "metadata": {},
   "outputs": [
    {
     "name": "stdout",
     "output_type": "stream",
     "text": [
      "MatrixA:\n",
      "1 3 5 \n",
      "7 9 11 \n",
      "13 15 17 \n",
      "MatrixB:\n",
      "9 8 7 \n",
      "6 5 4 \n",
      "3 2 1 \n",
      "MatrixA + MatrixB:\n",
      "10 11 12 \n",
      "13 14 15 \n",
      "16 17 18 \n",
      "MatrixA - MatrixB:\n",
      "-8 -5 -2 \n",
      "1 4 7 \n",
      "10 13 16 \n"
     ]
    }
   ],
   "source": [
    "def printMatrix(matrix):\n",
    "    for i in range(len(matrix)):\n",
    "        for j in range(len(matrix[i])):\n",
    "            print(matrix[i][j], end=' ')\n",
    "        print()\n",
    "\n",
    "def matrixAdd(A, B):\n",
    "    n = len(A)\n",
    "    m = len(A[0])\n",
    "    C = [[None]*m for row in range(n)]# n x m\n",
    "    for i in range(n):\n",
    "        for j in range(m):\n",
    "            C[i][j] = A[i][j]+B[i][j]\n",
    "    return C\n",
    "\n",
    "def matrixSubtract(A, B):\n",
    "    n = len(A)\n",
    "    m = len(A[0])\n",
    "    C = [[None]*m for row in range(n)]# n x m\n",
    "    for i in range(n):\n",
    "        for j in range(m):\n",
    "            C[i][j] = A[i][j]-B[i][j]\n",
    "    return C\n",
    "\n",
    "matrixA = [[1,3,5], [7,9,11], [13,15,17]]\n",
    "matrixB = [[9,8,7], [6,5,4], [3,2,1]]\n",
    "matrixC = matrixAdd(matrixA,matrixB)\n",
    "matrixD = matrixSubtract(matrixA,matrixB)\n",
    "\n",
    "print(\"MatrixA:\")\n",
    "printMatrix(matrixA)\n",
    "print(\"MatrixB:\")\n",
    "printMatrix(matrixB)\n",
    "print(\"MatrixA + MatrixB:\")\n",
    "printMatrix(matrixC)\n",
    "print(\"MatrixA - MatrixB:\")\n",
    "printMatrix(matrixD)\n"
   ]
  },
  {
   "cell_type": "code",
   "execution_count": 13,
   "id": "e8fb65e4",
   "metadata": {
    "scrolled": true
   },
   "outputs": [
    {
     "name": "stdout",
     "output_type": "stream",
     "text": [
      "MatrixA:\n",
      "6 3 5 \n",
      "8 9 7 \n",
      "MatrixB:\n",
      "5 10 \n",
      "14 7 \n",
      "6 8 \n",
      "MatrixA * MatrixB:\n",
      "102 121 \n",
      "208 199 \n"
     ]
    }
   ],
   "source": [
    "def printMatrix(matrix):\n",
    "    for i in range(len(matrix)):\n",
    "        for j in range(len(matrix[i])):\n",
    "            print(matrix[i][j], end=' ')\n",
    "        print()\n",
    "\n",
    "def matrixMutiply(A, B):\n",
    "    m = len(A)#a row  2\n",
    "    na = len(A[0])#a colun 3\n",
    "    nb = len(B)#b row  3\n",
    "    p = len(B[0])#b colum 2\n",
    "    if(na!=nb):\n",
    "        print('AB矩陣無法相乘')\n",
    "        return\n",
    "    C = [[None]*p for row in range(m)]\n",
    "    for i in range(m):\n",
    "        for j in range(p):\n",
    "            tmp=0\n",
    "            for k in range(na):\n",
    "                tmp = tmp + A[i][k]*B[k][j]\n",
    "            C[i][j] = tmp\n",
    "    return C\n",
    "\n",
    "\n",
    "matrixA = [[6,3,5], [8,9,7]]\n",
    "matrixB = [[5,10], [14,7], [6,8]]\n",
    "matrixC = matrixMutiply(matrixA,matrixB)\n",
    "\n",
    "print(\"MatrixA:\")\n",
    "printMatrix(matrixA)\n",
    "print(\"MatrixB:\")\n",
    "printMatrix(matrixB)\n",
    "print(\"MatrixA * MatrixB:\")\n",
    "printMatrix(matrixC)\n"
   ]
  },
  {
   "cell_type": "code",
   "execution_count": 1,
   "id": "82921566",
   "metadata": {},
   "outputs": [
    {
     "name": "stdout",
     "output_type": "stream",
     "text": [
      "MatrixA:\n",
      "1 2 3 4 \n",
      "5 6 7 8 \n",
      "9 10 11 12 \n",
      "MatrixB:\n",
      "1 5 9 \n",
      "2 6 10 \n",
      "3 7 11 \n",
      "4 8 12 \n"
     ]
    }
   ],
   "source": [
    "def printMatrix(matrix):\n",
    "    for i in range(len(matrix)):\n",
    "        for j in range(len(matrix[i])):\n",
    "            print(matrix[i][j], end=' ')\n",
    "        print()\n",
    "\n",
    "def matrixTranspose(A):\n",
    "    m = len(A)#3\n",
    "    n = len(A[0])#4\n",
    "    B = [[None]*m for row in range(n)]\n",
    "    for i in range(n):\n",
    "        for j in range(m):\n",
    "            B[i][j] = A[j][i]\n",
    "    return B\n",
    "\n",
    "\n",
    "matrixA = [[1,2,3,4],[5,6,7,8],[9,10,11,12]]\n",
    "matrixB = matrixTranspose(matrixA)\n",
    "\n",
    "print(\"MatrixA:\")\n",
    "printMatrix(matrixA)\n",
    "print(\"MatrixB:\")\n",
    "printMatrix(matrixB)\n"
   ]
  },
  {
   "cell_type": "markdown",
   "id": "9df679ec",
   "metadata": {},
   "source": [
    "# 矩陣翻轉"
   ]
  },
  {
   "cell_type": "code",
   "execution_count": 2,
   "id": "79f90db5",
   "metadata": {},
   "outputs": [
    {
     "name": "stdout",
     "output_type": "stream",
     "text": [
      "1 4 \n",
      "2 5 \n",
      "3 6 \n",
      "翻轉後...\n",
      "3 6 \n",
      "2 5 \n",
      "1 4 \n",
      "8\n"
     ]
    }
   ],
   "source": [
    "def flip(matrixA):\n",
    "    matrixB = []\n",
    "    r = len(matrixA)\n",
    "    for i in range(r-1, -1, -1): #A的index:2資料 放到 Ｂ index:0的資料\n",
    "        matrixB.append(matrixA[i])\n",
    "    return matrixB\n",
    "\n",
    "def printMatrix(matrix):\n",
    "    for i in range(len(matrix)):\n",
    "        for j in range(len(matrix[i])):\n",
    "            print(matrix[i][j], end=' ')\n",
    "        print()\n",
    "\n",
    "m1 = [[1,4],[2,5],[3,6]]\n",
    "m2 = flip(m1)\n",
    "printMatrix(m1)\n",
    "print('翻轉後...')\n",
    "printMatrix(m2)\n",
    "\n",
    "a1 = [5,6,7,8]\n",
    "print(a1[-1])"
   ]
  },
  {
   "cell_type": "markdown",
   "id": "f9f0bf43",
   "metadata": {},
   "source": [
    "# 旋轉後"
   ]
  },
  {
   "cell_type": "code",
   "execution_count": 6,
   "id": "f0fa3a0b",
   "metadata": {},
   "outputs": [
    {
     "name": "stdout",
     "output_type": "stream",
     "text": [
      "3 6 \n",
      "2 5 \n",
      "1 4 \n",
      "旋轉後...\n",
      "1 2 3 \n",
      "4 5 6 \n",
      "===========\n",
      "3 6 \n",
      "2 5 \n",
      "1 4 \n"
     ]
    }
   ],
   "source": [
    "def rotate(matrixA):\n",
    "    matrixB = []\n",
    "    r = len(matrixA)\n",
    "    c = len(matrixA[0])\n",
    "    for i in range(c):\n",
    "        row = []\n",
    "        for j in range(r-1, -1, -1):\n",
    "            row.append(matrixA[j][i]) #colum不變 row由最後一筆開始往上\n",
    "        matrixB.append(row)\n",
    "    return matrixB\n",
    "\n",
    "def printMatrix(matrix):\n",
    "    for i in range(len(matrix)):\n",
    "        for j in range(len(matrix[i])):\n",
    "            print(matrix[i][j], end=' ')\n",
    "        print()\n",
    "#還原\n",
    "def rotate2(matrixA):\n",
    "    matrixB = []\n",
    "    r = len(matrixA)       \n",
    "    c = len(matrixA[0])\n",
    "    for i in range(c-1,-1,-1):\n",
    "        row = []\n",
    "        for j in range(r):\n",
    "            row.append(matrixA[j][i])\n",
    "        matrixB.append(row)\n",
    "    return matrixB\n",
    "\n",
    "m1 = [[3,6],[2,5],[1,4]]\n",
    "m2 = rotate(m1)\n",
    "m3 = rotate2(m2)\n",
    "printMatrix(m1)\n",
    "\n",
    "print('旋轉後...')\n",
    "printMatrix(m2)\n",
    "print('===========')\n",
    "printMatrix(m3)\n"
   ]
  },
  {
   "cell_type": "code",
   "execution_count": null,
   "id": "10a6d2c0",
   "metadata": {},
   "outputs": [],
   "source": []
  }
 ],
 "metadata": {
  "kernelspec": {
   "display_name": "Python 3 (ipykernel)",
   "language": "python",
   "name": "python3"
  },
  "language_info": {
   "codemirror_mode": {
    "name": "ipython",
    "version": 3
   },
   "file_extension": ".py",
   "mimetype": "text/x-python",
   "name": "python",
   "nbconvert_exporter": "python",
   "pygments_lexer": "ipython3",
   "version": "3.8.11"
  }
 },
 "nbformat": 4,
 "nbformat_minor": 5
}
