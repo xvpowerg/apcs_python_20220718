{
 "cells": [
  {
   "cell_type": "markdown",
   "id": "e45783ac",
   "metadata": {},
   "source": [
    "數字的階乘 (Factorial)"
   ]
  },
  {
   "cell_type": "code",
   "execution_count": null,
   "id": "89be02f5",
   "metadata": {},
   "outputs": [],
   "source": [
    "def factorial_iterative(n):\n",
    "    result = 1\n",
    "    for i in range(n, 0, -1):\n",
    "        #print(i, \"*\", end=' ') if i>1 else print(i)\n",
    "        result *= i\n",
    "    return result\n",
    "\n",
    "def print_process(N, n):\n",
    "    for i in range(N, n, -1):\n",
    "        print('%d*' %i, end='')\n",
    "    print('%d!='%n, end='') if n>1 else print(1)        \n",
    "\n",
    "def factorial_recursive(n):\n",
    "    #print_process(N, n)\n",
    "    if n==1:        \n",
    "        return 1\n",
    "    else:\n",
    "        return n * factorial_recursive(n-1)\n",
    "\n",
    "N = eval(input(\"請輸入階乘數 : \"))\n",
    "print(\"%d! = %d\" %(N,factorial_iterative(N)))\n",
    "print(\"%d! = %d\" %(N,factorial_recursive(N)))"
   ]
  },
  {
   "cell_type": "code",
   "execution_count": 1,
   "id": "d2d99e2c",
   "metadata": {},
   "outputs": [
    {
     "name": "stdout",
     "output_type": "stream",
     "text": [
      "num1=20\n",
      "num2=14\n",
      "gcd(20,14)=gcd(14,6)=gcd(6,2)=gcd(2,0)=2\n"
     ]
    }
   ],
   "source": [
    "def gcd_iterative(m, n):\n",
    "    while(n!=0):\n",
    "        print('gcd(%d,%d)='%(m,n), end='')\n",
    "        r = m%n\n",
    "        m = n\n",
    "        n = r\n",
    "    return m\n",
    "\n",
    "def gcd_recursive(m, n):\n",
    "    print('gcd(%d,%d)='%(m,n), end='')\n",
    "    if n==0:\n",
    "        return m\n",
    "    else:\n",
    "        return gcd_recursive(n, m%n)\n",
    "\n",
    "n1 = int(input('num1='))\n",
    "n2 = int(input('num2='))\n",
    "if(n1<n2):\n",
    "    n1,n2 = n2,n1\n",
    "#gcd = gcd_iterative(n1, n2)\n",
    "gcd = gcd_recursive(n1, n2)\n",
    "print(gcd)"
   ]
  },
  {
   "cell_type": "markdown",
   "id": "e3e5b390",
   "metadata": {},
   "source": [
    "費伯那西數列"
   ]
  },
  {
   "cell_type": "code",
   "execution_count": 15,
   "id": "10124530",
   "metadata": {},
   "outputs": [
    {
     "name": "stdout",
     "output_type": "stream",
     "text": [
      "迴圈:fib(6765)\n",
      "遞迴:fib(6765)\n",
      "遞迴:fib(102334155)\n"
     ]
    }
   ],
   "source": [
    "def fibonacci_iterative(n):\n",
    "    if n == 0:\n",
    "        return 0;\n",
    "    elif n== 1:\n",
    "        return 1;\n",
    "    num1,num2 = 0,1\n",
    "    nextNum = num1 + num2\n",
    "    for i in range(2,n):\n",
    "        num1 = num2\n",
    "        num2 = nextNum\n",
    "        nextNum = num1 + num2\n",
    "    return nextNum\n",
    "tmp={0:0,1:1,2:1}\n",
    "def fibonacci_recrsive(n):\n",
    "    if n<=0:\n",
    "       return 0\n",
    "    elif n== 1 or n==2:\n",
    "        return 1\n",
    "    return fibonacci_recrsive(n-1) + fibonacci_recrsive(n-2)\n",
    "def fibonacci_recrsive2(n):\n",
    "    if n<=0:\n",
    "       return 0\n",
    "    elif n== 1 or n==2:\n",
    "        return 1\n",
    "    if n in tmp:\n",
    "        return tmp[n]\n",
    "    else:\n",
    "        tmp[n-1] = fibonacci_recrsive(n-1) \n",
    "        tmp[n-2] =  fibonacci_recrsive(n-2)\n",
    "    return tmp[n-1] + tmp[n-2]\n",
    "print(f\"迴圈:fib({fibonacci_iterative(20)})\")\n",
    "print(f\"遞迴:fib({fibonacci_recrsive(20)})\")\n",
    "print(f\"遞迴:fib({fibonacci_recrsive2(40)})\")"
   ]
  },
  {
   "cell_type": "markdown",
   "id": "9041fa0c",
   "metadata": {},
   "source": [
    "排列問題 Permutation"
   ]
  },
  {
   "cell_type": "code",
   "execution_count": 3,
   "id": "4c247ca2",
   "metadata": {},
   "outputs": [
    {
     "name": "stdout",
     "output_type": "stream",
     "text": [
      "[1, 2, 3, 4]\n",
      "[1, 2, 4, 3]\n",
      "[1, 3, 2, 4]\n",
      "[1, 3, 4, 2]\n",
      "[1, 4, 2, 3]\n",
      "[1, 4, 3, 2]\n",
      "[2, 1, 3, 4]\n",
      "[2, 1, 4, 3]\n",
      "[2, 3, 1, 4]\n",
      "[2, 3, 4, 1]\n",
      "[2, 4, 1, 3]\n",
      "[2, 4, 3, 1]\n",
      "[3, 1, 2, 4]\n",
      "[3, 1, 4, 2]\n",
      "[3, 2, 1, 4]\n",
      "[3, 2, 4, 1]\n",
      "[3, 4, 1, 2]\n",
      "[3, 4, 2, 1]\n",
      "[4, 1, 2, 3]\n",
      "[4, 1, 3, 2]\n",
      "[4, 2, 1, 3]\n",
      "[4, 2, 3, 1]\n",
      "[4, 3, 1, 2]\n",
      "[4, 3, 2, 1]\n"
     ]
    }
   ],
   "source": [
    "def permute(s):\n",
    "    out = []\n",
    "    if len(s) == 1:\n",
    "        return [s]\n",
    "    else:\n",
    "        for i in range(len(s)):            \n",
    "            for perm in permute(s[:i]+s[i+1:]):\n",
    "                ls = [s[i]]\n",
    "                ls.extend(perm)\n",
    "                out.append(ls)\n",
    "    return out\n",
    "myList = permute([1,2,3,4])\n",
    "for l in myList:\n",
    "    print(l)\n"
   ]
  },
  {
   "cell_type": "markdown",
   "id": "5f75b18e",
   "metadata": {},
   "source": [
    "分治法練習：組合"
   ]
  },
  {
   "cell_type": "code",
   "execution_count": 4,
   "id": "5f372066",
   "metadata": {},
   "outputs": [
    {
     "name": "stdout",
     "output_type": "stream",
     "text": [
      "[1, 2, 3, 4]\n",
      "[1, 2, 3, 5]\n",
      "[1, 2, 3, 6]\n",
      "[1, 2, 4, 5]\n",
      "[1, 2, 4, 6]\n",
      "[1, 2, 5, 6]\n",
      "[1, 3, 4, 5]\n",
      "[1, 3, 4, 6]\n",
      "[1, 3, 5, 6]\n",
      "[1, 4, 5, 6]\n",
      "[2, 3, 4, 5]\n",
      "[2, 3, 4, 6]\n",
      "[2, 3, 5, 6]\n",
      "[2, 4, 5, 6]\n",
      "[3, 4, 5, 6]\n"
     ]
    }
   ],
   "source": [
    "def combine(lst, n):\n",
    "    #print(f\"tag {tag} list:{lst} n:{n} for:{len(lst)-n}\")\n",
    "    out = []\n",
    "    #當 m== n 或 n =1 時返回\n",
    "    if len(lst)==n:#元素個數等於取值數量\n",
    "        return [lst]\n",
    "    elif n==1:#取值數量為1時傳回單一元素組成集合\n",
    "        return [[x] for x in lst]\n",
    "    else:        \n",
    "        for i in range(len(lst)-n):#目前list數量減去取值數量\n",
    "            for c1 in combine(lst[i+1:], n-1):#這是i索引屬值在裡面的狀況 C(n - 1, m - 1)\n",
    "                ls = [lst[i]]#i索引屬值在裡面\n",
    "                ls.extend(c1)\n",
    "                if ls not in out:#排除重複部分\n",
    "                    out.append(ls)\n",
    "               \n",
    "            for c2 in combine(lst[i+1:], n):#這是i索引屬值不在裡面的狀況 C(n - 1, m) \n",
    "                ls = []#i索引屬值不在裡面\n",
    "                ls.extend(c2)\n",
    "                if ls not in out:#排除重複部分\n",
    "                    out.append(ls)                \n",
    "    return out\n",
    "myList = combine([1,2,3,4,5,6], 4)\n",
    "for l in myList:\n",
    "    print(l)"
   ]
  },
  {
   "cell_type": "markdown",
   "id": "beb9bd4a",
   "metadata": {},
   "source": [
    "二分猜值法"
   ]
  },
  {
   "cell_type": "code",
   "execution_count": null,
   "id": "beff1dd7",
   "metadata": {},
   "outputs": [],
   "source": [
    "import random\n",
    "\n",
    "def guessCheck(gus, low, high):\n",
    "    #print(\"guessCheck(%d, %d, %d, %d)\"%(ans, gus, low, high))\n",
    "    global answer\n",
    "    if answer==gus:\n",
    "        print('猜對了!')\n",
    "    else:\n",
    "        if(answer>gus):\n",
    "            low=gus+1\n",
    "        else:\n",
    "            high=gus-1\n",
    "        guess = int(input('猜一個%d~%d的整數:'%(low,high)))\n",
    "        return guessCheck(guess, low, high)\n",
    "\n",
    "\n",
    "start, end = 1, 100\n",
    "answer = random.randint(start, end)\n",
    "#print(answer)\n",
    "guess = int(input('猜一個%d~%d的整數:'%(start,end)))\n",
    "guessCheck(guess, start, end)\n"
   ]
  },
  {
   "cell_type": "markdown",
   "id": "0e220a33",
   "metadata": {},
   "source": [
    "二分逼近法計算√ x "
   ]
  },
  {
   "cell_type": "code",
   "execution_count": 16,
   "id": "a9825de9",
   "metadata": {},
   "outputs": [
    {
     "name": "stdout",
     "output_type": "stream",
     "text": [
      "輸入整數2\n",
      "mid:1.0\n",
      "mid:1.5\n",
      "mid:1.25\n",
      "mid:1.375\n",
      "mid:1.4375\n",
      "mid:1.40625\n",
      "mid:1.421875\n",
      "mid:1.4140625\n",
      "mid:1.41796875\n",
      "mid:1.416015625\n",
      "mid:1.4150390625\n",
      "2的平方根1.415\n",
      "0.001\n"
     ]
    }
   ],
   "source": [
    "from math import fabs\n",
    "def sqrt_binary(x,pre=2):\n",
    "    min,max=0,x\n",
    "    while((max-min) > 10 ** (-pre)):#需扣除整數部分留下小數\n",
    "        mid = (min+max) / 2       \n",
    "        if (mid*mid > x):\n",
    "            max = mid\n",
    "        else:\n",
    "            min = mid\n",
    "        print(f\"mid:{mid}\")\n",
    "    return mid\n",
    "\n",
    "num = int(input(\"輸入整數\"))\n",
    "print(f\"{num}的平方根{sqrt_binary(num,3):.3f}\")\n",
    "\n",
    "print(f\"{10 **-3}\")"
   ]
  },
  {
   "cell_type": "code",
   "execution_count": 17,
   "id": "a6b6b192",
   "metadata": {},
   "outputs": [
    {
     "name": "stdout",
     "output_type": "stream",
     "text": [
      "輸入整數2\n",
      "2的平方根1.415\n"
     ]
    }
   ],
   "source": [
    "def sqrt_binary(x,min,max,pre=2):\n",
    "    #當前上下限沒超過目前\n",
    "    if ((max - min)<10**(-pre)):\n",
    "          return (min+max)/2\n",
    "    mid = (min+max)/2\n",
    "    if (mid*mid < x):\n",
    "        return sqrt_binary(x,mid,max,pre)\n",
    "    else:\n",
    "        return sqrt_binary(x,min,mid,pre)\n",
    "            \n",
    "num = int(input(\"輸入整數\"))\n",
    "print(f\"{num}的平方根{sqrt_binary(num,0,num,3):.3f}\")"
   ]
  },
  {
   "cell_type": "code",
   "execution_count": 1,
   "id": "2ac857ba",
   "metadata": {},
   "outputs": [
    {
     "name": "stdout",
     "output_type": "stream",
     "text": [
      "請輸入套環數量：3\n",
      "1套環從 A 移到 C\n",
      "2套環從 A 移到 B\n",
      "1套環從 C 移到 B\n",
      "3套環從 A 移到 C\n",
      "1套環從 B 移到 A\n",
      "2套環從 B 移到 C\n",
      "1套環從 A 移到 C\n"
     ]
    }
   ],
   "source": [
    "#p1 來源\n",
    "#p2 中繼\n",
    "#p3 目標\n",
    "def hanoi(n, p1, p2, p3):\n",
    "    if n==1: # 遞迴出口\n",
    "        print(f'{n}套環從 {p1} 移到 {p3}' )\n",
    "    else:\n",
    "        hanoi(n-1, p1, p3, p2)#來源P1 P3改為中繼 P2改為目標  來源不變\n",
    "        print(f'{n}套環從 {p1} 移到 {p3}' )\n",
    "        #print('%d套環從 %s 移到 %s' %(n, p1, p3))#n-1完成後把最大的放到目標柱\n",
    "        hanoi(n-1, p2, p1, p3)#中繼(P2)來源改為 來源改為P1中繼為 目標是P3\n",
    "\n",
    "i=int(input('請輸入套環數量：'))\n",
    "hanoi(i,'A', 'B', 'C')"
   ]
  },
  {
   "cell_type": "code",
   "execution_count": null,
   "id": "cf1ca06e",
   "metadata": {},
   "outputs": [],
   "source": []
  }
 ],
 "metadata": {
  "kernelspec": {
   "display_name": "Python 3 (ipykernel)",
   "language": "python",
   "name": "python3"
  },
  "language_info": {
   "codemirror_mode": {
    "name": "ipython",
    "version": 3
   },
   "file_extension": ".py",
   "mimetype": "text/x-python",
   "name": "python",
   "nbconvert_exporter": "python",
   "pygments_lexer": "ipython3",
   "version": "3.8.11"
  }
 },
 "nbformat": 4,
 "nbformat_minor": 5
}
